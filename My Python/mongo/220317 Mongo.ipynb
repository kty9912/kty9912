{
 "cells": [
  {
   "cell_type": "code",
   "execution_count": 2,
   "metadata": {},
   "outputs": [],
   "source": [
    "from pymongo import MongoClient\n",
    "import pandas as pd"
   ]
  },
  {
   "cell_type": "code",
   "execution_count": 3,
   "metadata": {},
   "outputs": [],
   "source": [
    "client = MongoClient( \n",
    "    host = 'localhost', \n",
    "    port = 27017\n",
    ")"
   ]
  },
  {
   "cell_type": "code",
   "execution_count": 4,
   "metadata": {},
   "outputs": [
    {
     "data": {
      "text/plain": [
       "['admin', 'config', 'local', 'test', 'ubion']"
      ]
     },
     "execution_count": 4,
     "metadata": {},
     "output_type": "execute_result"
    }
   ],
   "source": [
    "client.list_database_names()"
   ]
  },
  {
   "cell_type": "code",
   "execution_count": 5,
   "metadata": {},
   "outputs": [
    {
     "data": {
      "text/plain": [
       "<pymongo.cursor.Cursor at 0x263da058e80>"
      ]
     },
     "execution_count": 5,
     "metadata": {},
     "output_type": "execute_result"
    }
   ],
   "source": [
    "db = client[\"ubion\"]\n",
    "db.test.find()"
   ]
  },
  {
   "cell_type": "code",
   "execution_count": 6,
   "metadata": {},
   "outputs": [
    {
     "data": {
      "text/plain": [
       "[{'_id': ObjectId('623297f596cd94d777d8d024'), '1': '1', '2': '2', '3': '3'},\n",
       " {'_id': ObjectId('62329a5096cd94d777d8d025'), '1': '2'},\n",
       " {'_id': ObjectId('62329a5096cd94d777d8d026'), '3': '4'},\n",
       " {'_id': ObjectId('6232b60a96cd94d777d8d028'), '1': '1', '2': '2', '3': '3'},\n",
       " {'_id': ObjectId('6232b60a96cd94d777d8d029'), '1': '2'},\n",
       " {'_id': ObjectId('6232b60a96cd94d777d8d02a'), '3': '4'},\n",
       " {'_id': ObjectId('6233d75e67d17ecd08f21c1e'), '1': '1', '2': '2', '3': '3'},\n",
       " {'_id': ObjectId('6233d75e67d17ecd08f21c1f'), '1': '2'},\n",
       " {'_id': ObjectId('6233d75e67d17ecd08f21c20'), '3': '4'}]"
      ]
     },
     "execution_count": 6,
     "metadata": {},
     "output_type": "execute_result"
    }
   ],
   "source": [
    "db = client[\"ubion\"]\n",
    "list(db[\"test\"].find())"
   ]
  },
  {
   "cell_type": "code",
   "execution_count": 7,
   "metadata": {},
   "outputs": [
    {
     "data": {
      "text/plain": [
       "<pymongo.results.InsertOneResult at 0x263da14d380>"
      ]
     },
     "execution_count": 7,
     "metadata": {},
     "output_type": "execute_result"
    }
   ],
   "source": [
    "data = { \n",
    "    \"1\" : \"1\", \n",
    "    \"2\":\"2\", \n",
    "    \"3\":\"3\"}\n",
    "\n",
    "db.test.insert_one(data)\n",
    "#INSERT INTO test VALUE()"
   ]
  },
  {
   "cell_type": "code",
   "execution_count": 8,
   "metadata": {},
   "outputs": [
    {
     "data": {
      "text/plain": [
       "<pymongo.results.InsertManyResult at 0x263da16b580>"
      ]
     },
     "execution_count": 8,
     "metadata": {},
     "output_type": "execute_result"
    }
   ],
   "source": [
    "### data 변수 만들어서 insert_many를 사용해볼것!\n",
    "data = [{ \n",
    "    \"1\":\"2\"}, \n",
    "    {\"3\":\"4\"\n",
    "}]\n",
    "db.test.insert_many(data)"
   ]
  },
  {
   "cell_type": "code",
   "execution_count": 9,
   "metadata": {},
   "outputs": [
    {
     "data": {
      "text/plain": [
       "[{'_id': ObjectId('623297f596cd94d777d8d024'), '1': '1', '2': '2', '3': '3'},\n",
       " {'_id': ObjectId('62329a5096cd94d777d8d025'), '1': '2'},\n",
       " {'_id': ObjectId('62329a5096cd94d777d8d026'), '3': '4'},\n",
       " {'_id': ObjectId('6232b60a96cd94d777d8d028'), '1': '1', '2': '2', '3': '3'},\n",
       " {'_id': ObjectId('6232b60a96cd94d777d8d029'), '1': '2'},\n",
       " {'_id': ObjectId('6232b60a96cd94d777d8d02a'), '3': '4'},\n",
       " {'_id': ObjectId('6233d75e67d17ecd08f21c1e'), '1': '1', '2': '2', '3': '3'},\n",
       " {'_id': ObjectId('6233d75e67d17ecd08f21c1f'), '1': '2'},\n",
       " {'_id': ObjectId('6233d75e67d17ecd08f21c20'), '3': '4'},\n",
       " {'_id': ObjectId('623409e73408280851ab9cc3'), '1': '1', '2': '2', '3': '3'},\n",
       " {'_id': ObjectId('623409e93408280851ab9cc4'), '1': '2'},\n",
       " {'_id': ObjectId('623409e93408280851ab9cc5'), '3': '4'}]"
      ]
     },
     "execution_count": 9,
     "metadata": {},
     "output_type": "execute_result"
    }
   ],
   "source": [
    "list(db.test.find())"
   ]
  },
  {
   "cell_type": "code",
   "execution_count": 13,
   "metadata": {},
   "outputs": [
    {
     "data": {
      "text/plain": [
       "Database(MongoClient(host=['localhost:27017'], document_class=dict, tz_aware=False, connect=True), 'ubion')"
      ]
     },
     "execution_count": 13,
     "metadata": {},
     "output_type": "execute_result"
    }
   ],
   "source": [
    "db"
   ]
  },
  {
   "cell_type": "code",
   "execution_count": 14,
   "metadata": {},
   "outputs": [
    {
     "data": {
      "text/plain": [
       "<bound method Database.list_collection_names of Database(MongoClient(host=['localhost:27017'], document_class=dict, tz_aware=False, connect=True), 'ubion')>"
      ]
     },
     "execution_count": 14,
     "metadata": {},
     "output_type": "execute_result"
    }
   ],
   "source": [
    "db.list_collection_names"
   ]
  },
  {
   "cell_type": "code",
   "execution_count": 15,
   "metadata": {},
   "outputs": [
    {
     "data": {
      "text/plain": [
       "Database(MongoClient(host=['localhost:27017'], document_class=dict, tz_aware=False, connect=True), 'ubion')"
      ]
     },
     "execution_count": 15,
     "metadata": {},
     "output_type": "execute_result"
    }
   ],
   "source": [
    "db"
   ]
  },
  {
   "cell_type": "code",
   "execution_count": 16,
   "metadata": {},
   "outputs": [
    {
     "data": {
      "text/plain": [
       "<pymongo.results.InsertManyResult at 0x263da184740>"
      ]
     },
     "execution_count": 16,
     "metadata": {},
     "output_type": "execute_result"
    }
   ],
   "source": [
    "db.test2.insert_many( \n",
    "    [ \n",
    "        {'number' : i} for i in range(10)\n",
    "    ]\n",
    ")"
   ]
  },
  {
   "cell_type": "code",
   "execution_count": 17,
   "metadata": {},
   "outputs": [
    {
     "data": {
      "text/plain": [
       "[{'_id': ObjectId('62340a4a3408280851ab9cc6'), 'number': 0},\n",
       " {'_id': ObjectId('62340a4a3408280851ab9cc7'), 'number': 1},\n",
       " {'_id': ObjectId('62340a4a3408280851ab9cc8'), 'number': 2},\n",
       " {'_id': ObjectId('62340a4a3408280851ab9cc9'), 'number': 3},\n",
       " {'_id': ObjectId('62340a4a3408280851ab9cca'), 'number': 4},\n",
       " {'_id': ObjectId('62340a4a3408280851ab9ccb'), 'number': 5},\n",
       " {'_id': ObjectId('62340a4a3408280851ab9ccc'), 'number': 6},\n",
       " {'_id': ObjectId('62340a4a3408280851ab9ccd'), 'number': 7},\n",
       " {'_id': ObjectId('62340a4a3408280851ab9cce'), 'number': 8},\n",
       " {'_id': ObjectId('62340a4a3408280851ab9ccf'), 'number': 9}]"
      ]
     },
     "execution_count": 17,
     "metadata": {},
     "output_type": "execute_result"
    }
   ],
   "source": [
    "list(db.test2.find())"
   ]
  },
  {
   "cell_type": "code",
   "execution_count": 18,
   "metadata": {},
   "outputs": [],
   "source": [
    "import mod_sql\n",
    "import pandas as pd\n",
    "import pprint"
   ]
  },
  {
   "cell_type": "code",
   "execution_count": 19,
   "metadata": {},
   "outputs": [],
   "source": [
    "_db = mod_sql.Database()"
   ]
  },
  {
   "cell_type": "code",
   "execution_count": 20,
   "metadata": {},
   "outputs": [
    {
     "ename": "ProgrammingError",
     "evalue": "(1146, \"Table 'ubion.emp' doesn't exist\")",
     "output_type": "error",
     "traceback": [
      "\u001b[1;31m---------------------------------------------------------------------------\u001b[0m",
      "\u001b[1;31mProgrammingError\u001b[0m                          Traceback (most recent call last)",
      "\u001b[1;32mc:\\Users\\KimTaeyong\\Desktop\\My Python\\mongo\\220317 Mongo.ipynb Cell 16'\u001b[0m in \u001b[0;36m<module>\u001b[1;34m\u001b[0m\n\u001b[0;32m      <a href='vscode-notebook-cell:/c%3A/Users/KimTaeyong/Desktop/My%20Python/mongo/220317%20Mongo.ipynb#ch0000010?line=0'>1</a>\u001b[0m sql \u001b[39m=\u001b[39m \u001b[39m\"\"\"\u001b[39m\u001b[39m \u001b[39m\n\u001b[0;32m      <a href='vscode-notebook-cell:/c%3A/Users/KimTaeyong/Desktop/My%20Python/mongo/220317%20Mongo.ipynb#ch0000010?line=1'>2</a>\u001b[0m \u001b[39m        SELECT * FROM emp \u001b[39m\n\u001b[0;32m      <a href='vscode-notebook-cell:/c%3A/Users/KimTaeyong/Desktop/My%20Python/mongo/220317%20Mongo.ipynb#ch0000010?line=2'>3</a>\u001b[0m \u001b[39m        \u001b[39m\u001b[39m\"\"\"\u001b[39m\n\u001b[1;32m----> <a href='vscode-notebook-cell:/c%3A/Users/KimTaeyong/Desktop/My%20Python/mongo/220317%20Mongo.ipynb#ch0000010?line=3'>4</a>\u001b[0m result \u001b[39m=\u001b[39m _db\u001b[39m.\u001b[39;49mexecuteAll(sql)\n\u001b[0;32m      <a href='vscode-notebook-cell:/c%3A/Users/KimTaeyong/Desktop/My%20Python/mongo/220317%20Mongo.ipynb#ch0000010?line=4'>5</a>\u001b[0m pd\u001b[39m.\u001b[39mDataFrame(result)\u001b[39m.\u001b[39mto_csv(\u001b[39m'\u001b[39m\u001b[39memp.csv\u001b[39m\u001b[39m'\u001b[39m)\n",
      "File \u001b[1;32mc:\\Users\\KimTaeyong\\Desktop\\My Python\\mongo\\mod_sql.py:23\u001b[0m, in \u001b[0;36mDatabase.executeAll\u001b[1;34m(self, _sql, _values)\u001b[0m\n\u001b[0;32m     <a href='file:///c%3A/Users/KimTaeyong/Desktop/My%20Python/mongo/mod_sql.py?line=21'>22</a>\u001b[0m \u001b[39mdef\u001b[39;00m \u001b[39mexecuteAll\u001b[39m(\u001b[39mself\u001b[39m, _sql, _values\u001b[39m=\u001b[39m{}):\n\u001b[1;32m---> <a href='file:///c%3A/Users/KimTaeyong/Desktop/My%20Python/mongo/mod_sql.py?line=22'>23</a>\u001b[0m     \u001b[39mself\u001b[39;49m\u001b[39m.\u001b[39;49mcursor\u001b[39m.\u001b[39;49mexecute(_sql, _values)\n\u001b[0;32m     <a href='file:///c%3A/Users/KimTaeyong/Desktop/My%20Python/mongo/mod_sql.py?line=23'>24</a>\u001b[0m     \u001b[39mself\u001b[39m\u001b[39m.\u001b[39mresult \u001b[39m=\u001b[39m \u001b[39mself\u001b[39m\u001b[39m.\u001b[39mcursor\u001b[39m.\u001b[39mfetchall()\n\u001b[0;32m     <a href='file:///c%3A/Users/KimTaeyong/Desktop/My%20Python/mongo/mod_sql.py?line=24'>25</a>\u001b[0m     \u001b[39mreturn\u001b[39;00m \u001b[39mself\u001b[39m\u001b[39m.\u001b[39mresult\n",
      "File \u001b[1;32m~\\AppData\\Local\\Programs\\Python\\Python310\\lib\\site-packages\\pymysql\\cursors.py:148\u001b[0m, in \u001b[0;36mCursor.execute\u001b[1;34m(self, query, args)\u001b[0m\n\u001b[0;32m    <a href='file:///c%3A/Users/KimTaeyong/AppData/Local/Programs/Python/Python310/lib/site-packages/pymysql/cursors.py?line=143'>144</a>\u001b[0m     \u001b[39mpass\u001b[39;00m\n\u001b[0;32m    <a href='file:///c%3A/Users/KimTaeyong/AppData/Local/Programs/Python/Python310/lib/site-packages/pymysql/cursors.py?line=145'>146</a>\u001b[0m query \u001b[39m=\u001b[39m \u001b[39mself\u001b[39m\u001b[39m.\u001b[39mmogrify(query, args)\n\u001b[1;32m--> <a href='file:///c%3A/Users/KimTaeyong/AppData/Local/Programs/Python/Python310/lib/site-packages/pymysql/cursors.py?line=147'>148</a>\u001b[0m result \u001b[39m=\u001b[39m \u001b[39mself\u001b[39;49m\u001b[39m.\u001b[39;49m_query(query)\n\u001b[0;32m    <a href='file:///c%3A/Users/KimTaeyong/AppData/Local/Programs/Python/Python310/lib/site-packages/pymysql/cursors.py?line=148'>149</a>\u001b[0m \u001b[39mself\u001b[39m\u001b[39m.\u001b[39m_executed \u001b[39m=\u001b[39m query\n\u001b[0;32m    <a href='file:///c%3A/Users/KimTaeyong/AppData/Local/Programs/Python/Python310/lib/site-packages/pymysql/cursors.py?line=149'>150</a>\u001b[0m \u001b[39mreturn\u001b[39;00m result\n",
      "File \u001b[1;32m~\\AppData\\Local\\Programs\\Python\\Python310\\lib\\site-packages\\pymysql\\cursors.py:310\u001b[0m, in \u001b[0;36mCursor._query\u001b[1;34m(self, q)\u001b[0m\n\u001b[0;32m    <a href='file:///c%3A/Users/KimTaeyong/AppData/Local/Programs/Python/Python310/lib/site-packages/pymysql/cursors.py?line=307'>308</a>\u001b[0m \u001b[39mself\u001b[39m\u001b[39m.\u001b[39m_last_executed \u001b[39m=\u001b[39m q\n\u001b[0;32m    <a href='file:///c%3A/Users/KimTaeyong/AppData/Local/Programs/Python/Python310/lib/site-packages/pymysql/cursors.py?line=308'>309</a>\u001b[0m \u001b[39mself\u001b[39m\u001b[39m.\u001b[39m_clear_result()\n\u001b[1;32m--> <a href='file:///c%3A/Users/KimTaeyong/AppData/Local/Programs/Python/Python310/lib/site-packages/pymysql/cursors.py?line=309'>310</a>\u001b[0m conn\u001b[39m.\u001b[39;49mquery(q)\n\u001b[0;32m    <a href='file:///c%3A/Users/KimTaeyong/AppData/Local/Programs/Python/Python310/lib/site-packages/pymysql/cursors.py?line=310'>311</a>\u001b[0m \u001b[39mself\u001b[39m\u001b[39m.\u001b[39m_do_get_result()\n\u001b[0;32m    <a href='file:///c%3A/Users/KimTaeyong/AppData/Local/Programs/Python/Python310/lib/site-packages/pymysql/cursors.py?line=311'>312</a>\u001b[0m \u001b[39mreturn\u001b[39;00m \u001b[39mself\u001b[39m\u001b[39m.\u001b[39mrowcount\n",
      "File \u001b[1;32m~\\AppData\\Local\\Programs\\Python\\Python310\\lib\\site-packages\\pymysql\\connections.py:548\u001b[0m, in \u001b[0;36mConnection.query\u001b[1;34m(self, sql, unbuffered)\u001b[0m\n\u001b[0;32m    <a href='file:///c%3A/Users/KimTaeyong/AppData/Local/Programs/Python/Python310/lib/site-packages/pymysql/connections.py?line=545'>546</a>\u001b[0m     sql \u001b[39m=\u001b[39m sql\u001b[39m.\u001b[39mencode(\u001b[39mself\u001b[39m\u001b[39m.\u001b[39mencoding, \u001b[39m\"\u001b[39m\u001b[39msurrogateescape\u001b[39m\u001b[39m\"\u001b[39m)\n\u001b[0;32m    <a href='file:///c%3A/Users/KimTaeyong/AppData/Local/Programs/Python/Python310/lib/site-packages/pymysql/connections.py?line=546'>547</a>\u001b[0m \u001b[39mself\u001b[39m\u001b[39m.\u001b[39m_execute_command(COMMAND\u001b[39m.\u001b[39mCOM_QUERY, sql)\n\u001b[1;32m--> <a href='file:///c%3A/Users/KimTaeyong/AppData/Local/Programs/Python/Python310/lib/site-packages/pymysql/connections.py?line=547'>548</a>\u001b[0m \u001b[39mself\u001b[39m\u001b[39m.\u001b[39m_affected_rows \u001b[39m=\u001b[39m \u001b[39mself\u001b[39;49m\u001b[39m.\u001b[39;49m_read_query_result(unbuffered\u001b[39m=\u001b[39;49munbuffered)\n\u001b[0;32m    <a href='file:///c%3A/Users/KimTaeyong/AppData/Local/Programs/Python/Python310/lib/site-packages/pymysql/connections.py?line=548'>549</a>\u001b[0m \u001b[39mreturn\u001b[39;00m \u001b[39mself\u001b[39m\u001b[39m.\u001b[39m_affected_rows\n",
      "File \u001b[1;32m~\\AppData\\Local\\Programs\\Python\\Python310\\lib\\site-packages\\pymysql\\connections.py:775\u001b[0m, in \u001b[0;36mConnection._read_query_result\u001b[1;34m(self, unbuffered)\u001b[0m\n\u001b[0;32m    <a href='file:///c%3A/Users/KimTaeyong/AppData/Local/Programs/Python/Python310/lib/site-packages/pymysql/connections.py?line=772'>773</a>\u001b[0m \u001b[39melse\u001b[39;00m:\n\u001b[0;32m    <a href='file:///c%3A/Users/KimTaeyong/AppData/Local/Programs/Python/Python310/lib/site-packages/pymysql/connections.py?line=773'>774</a>\u001b[0m     result \u001b[39m=\u001b[39m MySQLResult(\u001b[39mself\u001b[39m)\n\u001b[1;32m--> <a href='file:///c%3A/Users/KimTaeyong/AppData/Local/Programs/Python/Python310/lib/site-packages/pymysql/connections.py?line=774'>775</a>\u001b[0m     result\u001b[39m.\u001b[39;49mread()\n\u001b[0;32m    <a href='file:///c%3A/Users/KimTaeyong/AppData/Local/Programs/Python/Python310/lib/site-packages/pymysql/connections.py?line=775'>776</a>\u001b[0m \u001b[39mself\u001b[39m\u001b[39m.\u001b[39m_result \u001b[39m=\u001b[39m result\n\u001b[0;32m    <a href='file:///c%3A/Users/KimTaeyong/AppData/Local/Programs/Python/Python310/lib/site-packages/pymysql/connections.py?line=776'>777</a>\u001b[0m \u001b[39mif\u001b[39;00m result\u001b[39m.\u001b[39mserver_status \u001b[39mis\u001b[39;00m \u001b[39mnot\u001b[39;00m \u001b[39mNone\u001b[39;00m:\n",
      "File \u001b[1;32m~\\AppData\\Local\\Programs\\Python\\Python310\\lib\\site-packages\\pymysql\\connections.py:1156\u001b[0m, in \u001b[0;36mMySQLResult.read\u001b[1;34m(self)\u001b[0m\n\u001b[0;32m   <a href='file:///c%3A/Users/KimTaeyong/AppData/Local/Programs/Python/Python310/lib/site-packages/pymysql/connections.py?line=1153'>1154</a>\u001b[0m \u001b[39mdef\u001b[39;00m \u001b[39mread\u001b[39m(\u001b[39mself\u001b[39m):\n\u001b[0;32m   <a href='file:///c%3A/Users/KimTaeyong/AppData/Local/Programs/Python/Python310/lib/site-packages/pymysql/connections.py?line=1154'>1155</a>\u001b[0m     \u001b[39mtry\u001b[39;00m:\n\u001b[1;32m-> <a href='file:///c%3A/Users/KimTaeyong/AppData/Local/Programs/Python/Python310/lib/site-packages/pymysql/connections.py?line=1155'>1156</a>\u001b[0m         first_packet \u001b[39m=\u001b[39m \u001b[39mself\u001b[39;49m\u001b[39m.\u001b[39;49mconnection\u001b[39m.\u001b[39;49m_read_packet()\n\u001b[0;32m   <a href='file:///c%3A/Users/KimTaeyong/AppData/Local/Programs/Python/Python310/lib/site-packages/pymysql/connections.py?line=1157'>1158</a>\u001b[0m         \u001b[39mif\u001b[39;00m first_packet\u001b[39m.\u001b[39mis_ok_packet():\n\u001b[0;32m   <a href='file:///c%3A/Users/KimTaeyong/AppData/Local/Programs/Python/Python310/lib/site-packages/pymysql/connections.py?line=1158'>1159</a>\u001b[0m             \u001b[39mself\u001b[39m\u001b[39m.\u001b[39m_read_ok_packet(first_packet)\n",
      "File \u001b[1;32m~\\AppData\\Local\\Programs\\Python\\Python310\\lib\\site-packages\\pymysql\\connections.py:725\u001b[0m, in \u001b[0;36mConnection._read_packet\u001b[1;34m(self, packet_type)\u001b[0m\n\u001b[0;32m    <a href='file:///c%3A/Users/KimTaeyong/AppData/Local/Programs/Python/Python310/lib/site-packages/pymysql/connections.py?line=722'>723</a>\u001b[0m     \u001b[39mif\u001b[39;00m \u001b[39mself\u001b[39m\u001b[39m.\u001b[39m_result \u001b[39mis\u001b[39;00m \u001b[39mnot\u001b[39;00m \u001b[39mNone\u001b[39;00m \u001b[39mand\u001b[39;00m \u001b[39mself\u001b[39m\u001b[39m.\u001b[39m_result\u001b[39m.\u001b[39munbuffered_active \u001b[39mis\u001b[39;00m \u001b[39mTrue\u001b[39;00m:\n\u001b[0;32m    <a href='file:///c%3A/Users/KimTaeyong/AppData/Local/Programs/Python/Python310/lib/site-packages/pymysql/connections.py?line=723'>724</a>\u001b[0m         \u001b[39mself\u001b[39m\u001b[39m.\u001b[39m_result\u001b[39m.\u001b[39munbuffered_active \u001b[39m=\u001b[39m \u001b[39mFalse\u001b[39;00m\n\u001b[1;32m--> <a href='file:///c%3A/Users/KimTaeyong/AppData/Local/Programs/Python/Python310/lib/site-packages/pymysql/connections.py?line=724'>725</a>\u001b[0m     packet\u001b[39m.\u001b[39;49mraise_for_error()\n\u001b[0;32m    <a href='file:///c%3A/Users/KimTaeyong/AppData/Local/Programs/Python/Python310/lib/site-packages/pymysql/connections.py?line=725'>726</a>\u001b[0m \u001b[39mreturn\u001b[39;00m packet\n",
      "File \u001b[1;32m~\\AppData\\Local\\Programs\\Python\\Python310\\lib\\site-packages\\pymysql\\protocol.py:221\u001b[0m, in \u001b[0;36mMysqlPacket.raise_for_error\u001b[1;34m(self)\u001b[0m\n\u001b[0;32m    <a href='file:///c%3A/Users/KimTaeyong/AppData/Local/Programs/Python/Python310/lib/site-packages/pymysql/protocol.py?line=218'>219</a>\u001b[0m \u001b[39mif\u001b[39;00m DEBUG:\n\u001b[0;32m    <a href='file:///c%3A/Users/KimTaeyong/AppData/Local/Programs/Python/Python310/lib/site-packages/pymysql/protocol.py?line=219'>220</a>\u001b[0m     \u001b[39mprint\u001b[39m(\u001b[39m\"\u001b[39m\u001b[39merrno =\u001b[39m\u001b[39m\"\u001b[39m, errno)\n\u001b[1;32m--> <a href='file:///c%3A/Users/KimTaeyong/AppData/Local/Programs/Python/Python310/lib/site-packages/pymysql/protocol.py?line=220'>221</a>\u001b[0m err\u001b[39m.\u001b[39;49mraise_mysql_exception(\u001b[39mself\u001b[39;49m\u001b[39m.\u001b[39;49m_data)\n",
      "File \u001b[1;32m~\\AppData\\Local\\Programs\\Python\\Python310\\lib\\site-packages\\pymysql\\err.py:143\u001b[0m, in \u001b[0;36mraise_mysql_exception\u001b[1;34m(data)\u001b[0m\n\u001b[0;32m    <a href='file:///c%3A/Users/KimTaeyong/AppData/Local/Programs/Python/Python310/lib/site-packages/pymysql/err.py?line=140'>141</a>\u001b[0m \u001b[39mif\u001b[39;00m errorclass \u001b[39mis\u001b[39;00m \u001b[39mNone\u001b[39;00m:\n\u001b[0;32m    <a href='file:///c%3A/Users/KimTaeyong/AppData/Local/Programs/Python/Python310/lib/site-packages/pymysql/err.py?line=141'>142</a>\u001b[0m     errorclass \u001b[39m=\u001b[39m InternalError \u001b[39mif\u001b[39;00m errno \u001b[39m<\u001b[39m \u001b[39m1000\u001b[39m \u001b[39melse\u001b[39;00m OperationalError\n\u001b[1;32m--> <a href='file:///c%3A/Users/KimTaeyong/AppData/Local/Programs/Python/Python310/lib/site-packages/pymysql/err.py?line=142'>143</a>\u001b[0m \u001b[39mraise\u001b[39;00m errorclass(errno, errval)\n",
      "\u001b[1;31mProgrammingError\u001b[0m: (1146, \"Table 'ubion.emp' doesn't exist\")"
     ]
    }
   ],
   "source": [
    "sql = \"\"\" \n",
    "        SELECT * FROM emp \n",
    "        \"\"\"\n",
    "result = _db.executeAll(sql)\n",
    "pd.DataFrame(result).to_csv('emp.csv')"
   ]
  },
  {
   "cell_type": "code",
   "execution_count": 22,
   "metadata": {},
   "outputs": [
    {
     "ename": "AttributeError",
     "evalue": "module 'pandas' has no attribute 'dataframe'",
     "output_type": "error",
     "traceback": [
      "\u001b[1;31m---------------------------------------------------------------------------\u001b[0m",
      "\u001b[1;31mAttributeError\u001b[0m                            Traceback (most recent call last)",
      "\u001b[1;32mc:\\Users\\KimTaeyong\\Desktop\\My Python\\mongo\\220317 Mongo.ipynb Cell 17'\u001b[0m in \u001b[0;36m<module>\u001b[1;34m\u001b[0m\n\u001b[1;32m----> <a href='vscode-notebook-cell:/c%3A/Users/KimTaeyong/Desktop/My%20Python/mongo/220317%20Mongo.ipynb#ch0000011?line=0'>1</a>\u001b[0m db\u001b[39m.\u001b[39memp\u001b[39m.\u001b[39minsert_many(\u001b[39mdict\u001b[39m(pd\u001b[39m.\u001b[39;49mdataframe(result)))\n",
      "File \u001b[1;32m~\\AppData\\Local\\Programs\\Python\\Python310\\lib\\site-packages\\pandas\\__init__.py:261\u001b[0m, in \u001b[0;36m__getattr__\u001b[1;34m(name)\u001b[0m\n\u001b[0;32m    <a href='file:///c%3A/Users/KimTaeyong/AppData/Local/Programs/Python/Python310/lib/site-packages/pandas/__init__.py?line=256'>257</a>\u001b[0m     \u001b[39mfrom\u001b[39;00m \u001b[39mpandas\u001b[39;00m\u001b[39m.\u001b[39;00m\u001b[39mcore\u001b[39;00m\u001b[39m.\u001b[39;00m\u001b[39marrays\u001b[39;00m\u001b[39m.\u001b[39;00m\u001b[39msparse\u001b[39;00m \u001b[39mimport\u001b[39;00m SparseArray \u001b[39mas\u001b[39;00m _SparseArray\n\u001b[0;32m    <a href='file:///c%3A/Users/KimTaeyong/AppData/Local/Programs/Python/Python310/lib/site-packages/pandas/__init__.py?line=258'>259</a>\u001b[0m     \u001b[39mreturn\u001b[39;00m _SparseArray\n\u001b[1;32m--> <a href='file:///c%3A/Users/KimTaeyong/AppData/Local/Programs/Python/Python310/lib/site-packages/pandas/__init__.py?line=260'>261</a>\u001b[0m \u001b[39mraise\u001b[39;00m \u001b[39mAttributeError\u001b[39;00m(\u001b[39mf\u001b[39m\u001b[39m\"\u001b[39m\u001b[39mmodule \u001b[39m\u001b[39m'\u001b[39m\u001b[39mpandas\u001b[39m\u001b[39m'\u001b[39m\u001b[39m has no attribute \u001b[39m\u001b[39m'\u001b[39m\u001b[39m{\u001b[39;00mname\u001b[39m}\u001b[39;00m\u001b[39m'\u001b[39m\u001b[39m\"\u001b[39m)\n",
      "\u001b[1;31mAttributeError\u001b[0m: module 'pandas' has no attribute 'dataframe'"
     ]
    }
   ],
   "source": [
    "db.emp.insert_many(dict(pd.dataframe(result)))"
   ]
  },
  {
   "cell_type": "code",
   "execution_count": null,
   "metadata": {},
   "outputs": [
    {
     "data": {
      "text/plain": [
       "{'_id': ObjectId('6232b72aac16255c494f1e42'),\n",
       " '': '0',\n",
       " 'EMPNO': '7369',\n",
       " 'ENAME': 'SMITH',\n",
       " 'JOB': 'CLERK',\n",
       " 'MGR': '7902',\n",
       " 'HIREDATE': '1980-12-17',\n",
       " 'SAL': '800.00',\n",
       " 'DEPTNO': '20'}"
      ]
     },
     "execution_count": 33,
     "metadata": {},
     "output_type": "execute_result"
    }
   ],
   "source": [
    "db.emp.find_one()"
   ]
  },
  {
   "cell_type": "code",
   "execution_count": null,
   "metadata": {},
   "outputs": [
    {
     "data": {
      "text/plain": [
       "[{'_id': ObjectId('6232b72aac16255c494f1e42'),\n",
       "  '': '0',\n",
       "  'EMPNO': '7369',\n",
       "  'ENAME': 'SMITH',\n",
       "  'JOB': 'CLERK',\n",
       "  'MGR': '7902',\n",
       "  'HIREDATE': '1980-12-17',\n",
       "  'SAL': '800.00',\n",
       "  'DEPTNO': '20'}]"
      ]
     },
     "execution_count": 35,
     "metadata": {},
     "output_type": "execute_result"
    }
   ],
   "source": [
    "list(db.emp.find( \n",
    "    { \n",
    "        \"ENAME\":\"SMITH\"\n",
    "    }\n",
    "))\n",
    "# 이게 SELECT * FROM emp WHERE ENAME = \"SMITH\"와 같은 내용"
   ]
  },
  {
   "cell_type": "code",
   "execution_count": null,
   "metadata": {},
   "outputs": [
    {
     "name": "stdout",
     "output_type": "stream",
     "text": [
      "{'_id': ObjectId('6232b72aac16255c494f1e42'), 'EMPNO': '7369', 'ENAME': 'SMITH', 'DEPTNO': '20'}\n",
      "{'_id': ObjectId('6232b72aac16255c494f1e43'), 'EMPNO': '7499', 'ENAME': 'ALLEN', 'DEPTNO': '30'}\n",
      "{'_id': ObjectId('6232b72aac16255c494f1e44'), 'EMPNO': '7521', 'ENAME': 'WARD', 'DEPTNO': '30'}\n",
      "{'_id': ObjectId('6232b72aac16255c494f1e45'), 'EMPNO': '7566', 'ENAME': 'JONES', 'DEPTNO': '20'}\n",
      "{'_id': ObjectId('6232b72aac16255c494f1e46'), 'EMPNO': '7654', 'ENAME': 'MARTIN', 'DEPTNO': '30'}\n",
      "{'_id': ObjectId('6232b72aac16255c494f1e47'), 'EMPNO': '7698', 'ENAME': 'BLAKE', 'DEPTNO': '30'}\n",
      "{'_id': ObjectId('6232b72aac16255c494f1e48'), 'EMPNO': '7782', 'ENAME': 'CLARK', 'DEPTNO': '10'}\n",
      "{'_id': ObjectId('6232b72aac16255c494f1e49'), 'EMPNO': '7788', 'ENAME': 'SCOTT', 'DEPTNO': '20'}\n",
      "{'_id': ObjectId('6232b72aac16255c494f1e4a'), 'EMPNO': '7839', 'ENAME': 'KING', 'DEPTNO': '10'}\n",
      "{'_id': ObjectId('6232b72aac16255c494f1e4b'), 'EMPNO': '7844', 'ENAME': 'TURNER', 'DEPTNO': '30'}\n",
      "{'_id': ObjectId('6232b72aac16255c494f1e4c'), 'EMPNO': '7876', 'ENAME': 'ADAMS', 'DEPTNO': '20'}\n",
      "{'_id': ObjectId('6232b72aac16255c494f1e4d'), 'EMPNO': '7900', 'ENAME': 'JAMES', 'DEPTNO': '30'}\n",
      "{'_id': ObjectId('6232b72aac16255c494f1e4e'), 'EMPNO': '7902', 'ENAME': 'FORD', 'DEPTNO': '20'}\n",
      "{'_id': ObjectId('6232b72aac16255c494f1e4f'), 'EMPNO': '7934', 'ENAME': 'MILLER', 'DEPTNO': '10'}\n"
     ]
    }
   ],
   "source": [
    "## emp collection\n",
    "## key 값이 EMPNO, ENAME, DEPTNO만 출력이 되도록 코드를 작성\n",
    "\n",
    "result = db.emp.find( \n",
    "    {},                 # where 조건을 쓸때 사용하는 공간\n",
    "    {\"EMPNO\" : 1, \n",
    "    \"ENAME\": 1, \n",
    "    \"DEPTNO\":1})        # key\\의 값을 선택할 수 있는 공간\n",
    "for list in result:\n",
    "    print(list)\n",
    "\n",
    "# SELECT "
   ]
  },
  {
   "cell_type": "code",
   "execution_count": null,
   "metadata": {},
   "outputs": [
    {
     "data": {
      "text/plain": [
       "'5'"
      ]
     },
     "execution_count": 43,
     "metadata": {},
     "output_type": "execute_result"
    }
   ],
   "source": [
    "def find(a, b = 3):\n",
    "    return a + b\n",
    "\n",
    "find(\"\",\"5\")"
   ]
  },
  {
   "cell_type": "code",
   "execution_count": 23,
   "metadata": {},
   "outputs": [
    {
     "name": "stdout",
     "output_type": "stream",
     "text": [
      "{'': '10',\n",
      " 'DEPTNO': '20',\n",
      " 'EMPNO': '7876',\n",
      " 'ENAME': 'ADAMS',\n",
      " 'HIREDATE': '1987-07-13',\n",
      " 'JOB': 'CLERK',\n",
      " 'MGR': '7788',\n",
      " 'SAL': '1100.00',\n",
      " '_id': ObjectId('6232b72aac16255c494f1e4c')}\n",
      "{'': '10',\n",
      " 'DEPTNO': 20,\n",
      " 'EMPNO': 7876,\n",
      " 'ENAME': 'ADAMS',\n",
      " 'HIREDATE': '1987-07-13',\n",
      " 'JOB': 'CLERK',\n",
      " 'MGR': 7788,\n",
      " 'SAL': 1100.0,\n",
      " '_id': ObjectId('6232c6e989fd012ac7c4ce55')}\n",
      "{'': '1',\n",
      " 'COMM': '300.00',\n",
      " 'DEPTNO': '30',\n",
      " 'EMPNO': '7499',\n",
      " 'ENAME': 'ALLEN',\n",
      " 'HIREDATE': '1981-02-20',\n",
      " 'JOB': 'SALESMAN',\n",
      " 'MGR': '7698',\n",
      " 'SAL': 2000,\n",
      " '_id': ObjectId('6232b72aac16255c494f1e43')}\n",
      "{'': '1',\n",
      " 'COMM': 300.0,\n",
      " 'DEPTNO': 30,\n",
      " 'EMPNO': 7499,\n",
      " 'ENAME': 'ALLEN',\n",
      " 'HIREDATE': '1981-02-20',\n",
      " 'JOB': 'SALESMAN',\n",
      " 'MGR': 7698,\n",
      " 'SAL': 2000,\n",
      " '_id': ObjectId('6232c6e989fd012ac7c4ce4c')}\n",
      "{'': '5',\n",
      " 'DEPTNO': '30',\n",
      " 'EMPNO': '7698',\n",
      " 'ENAME': 'BLAKE',\n",
      " 'HIREDATE': '1981-05-01',\n",
      " 'JOB': 'MANAGER',\n",
      " 'MGR': '7839',\n",
      " 'SAL': '2850.00',\n",
      " '_id': ObjectId('6232b72aac16255c494f1e47')}\n",
      "{'': '5',\n",
      " 'DEPTNO': 30,\n",
      " 'EMPNO': 7698,\n",
      " 'ENAME': 'BLAKE',\n",
      " 'HIREDATE': '1981-05-01',\n",
      " 'JOB': 'MANAGER',\n",
      " 'MGR': 7839,\n",
      " 'SAL': 2850.0,\n",
      " '_id': ObjectId('6232c6e989fd012ac7c4ce50')}\n",
      "{'': '6',\n",
      " 'DEPTNO': '10',\n",
      " 'EMPNO': '7782',\n",
      " 'ENAME': 'CLARK',\n",
      " 'HIREDATE': '1981-06-09',\n",
      " 'JOB': 'MANAGER',\n",
      " 'MGR': '7839',\n",
      " 'SAL': '2450.00',\n",
      " '_id': ObjectId('6232b72aac16255c494f1e48')}\n",
      "{'': '6',\n",
      " 'DEPTNO': 10,\n",
      " 'EMPNO': 7782,\n",
      " 'ENAME': 'CLARK',\n",
      " 'HIREDATE': '1981-06-09',\n",
      " 'JOB': 'MANAGER',\n",
      " 'MGR': 7839,\n",
      " 'SAL': 2450.0,\n",
      " '_id': ObjectId('6232c6e989fd012ac7c4ce51')}\n",
      "{'': '12',\n",
      " 'DEPTNO': '20',\n",
      " 'EMPNO': '7902',\n",
      " 'ENAME': 'FORD',\n",
      " 'HIREDATE': '1981-12-03',\n",
      " 'JOB': 'ANALYST',\n",
      " 'MGR': '7566',\n",
      " 'SAL': '3000.00',\n",
      " '_id': ObjectId('6232b72aac16255c494f1e4e')}\n",
      "{'': '12',\n",
      " 'DEPTNO': 20,\n",
      " 'EMPNO': 7902,\n",
      " 'ENAME': 'FORD',\n",
      " 'HIREDATE': '1981-12-03',\n",
      " 'JOB': 'ANALYST',\n",
      " 'MGR': 7566,\n",
      " 'SAL': 3000.0,\n",
      " '_id': ObjectId('6232c6e989fd012ac7c4ce57')}\n",
      "{'': '11',\n",
      " 'DEPTNO': '30',\n",
      " 'EMPNO': '7900',\n",
      " 'ENAME': 'JAMES',\n",
      " 'HIREDATE': '1981-12-03',\n",
      " 'JOB': 'CLERK',\n",
      " 'MGR': '7698',\n",
      " 'SAL': '950.00',\n",
      " '_id': ObjectId('6232b72aac16255c494f1e4d')}\n",
      "{'': '11',\n",
      " 'DEPTNO': 30,\n",
      " 'EMPNO': 7900,\n",
      " 'ENAME': 'JAMES',\n",
      " 'HIREDATE': '1981-12-03',\n",
      " 'JOB': 'CLERK',\n",
      " 'MGR': 7698,\n",
      " 'SAL': 950.0,\n",
      " '_id': ObjectId('6232c6e989fd012ac7c4ce56')}\n",
      "{'': '3',\n",
      " 'DEPTNO': '20',\n",
      " 'EMPNO': '7566',\n",
      " 'ENAME': 'JONES',\n",
      " 'HIREDATE': '1981-04-02',\n",
      " 'JOB': 'MANAGER',\n",
      " 'MGR': '7839',\n",
      " 'SAL': '2975.00',\n",
      " '_id': ObjectId('6232b72aac16255c494f1e45')}\n",
      "{'': '3',\n",
      " 'DEPTNO': 20,\n",
      " 'EMPNO': 7566,\n",
      " 'ENAME': 'JONES',\n",
      " 'HIREDATE': '1981-04-02',\n",
      " 'JOB': 'MANAGER',\n",
      " 'MGR': 7839,\n",
      " 'SAL': 2975.0,\n",
      " '_id': ObjectId('6232c6e989fd012ac7c4ce4e')}\n",
      "{'': '8',\n",
      " 'DEPTNO': 10,\n",
      " 'EMPNO': 7839,\n",
      " 'ENAME': 'KING',\n",
      " 'HIREDATE': '1981-11-17',\n",
      " 'JOB': 'PRESIDENT',\n",
      " 'SAL': 5000.0,\n",
      " '_id': ObjectId('6232c6e989fd012ac7c4ce53')}\n",
      "{'': '4',\n",
      " 'COMM': '1400.00',\n",
      " 'DEPTNO': '30',\n",
      " 'EMPNO': '7654',\n",
      " 'ENAME': 'MARTIN',\n",
      " 'HIREDATE': '1981-09-28',\n",
      " 'JOB': 'SALESMAN',\n",
      " 'MGR': '7698',\n",
      " 'SAL': '1250.00',\n",
      " '_id': ObjectId('6232b72aac16255c494f1e46')}\n",
      "{'': '4',\n",
      " 'COMM': 1400.0,\n",
      " 'DEPTNO': 30,\n",
      " 'EMPNO': 7654,\n",
      " 'ENAME': 'MARTIN',\n",
      " 'HIREDATE': '1981-09-28',\n",
      " 'JOB': 'SALESMAN',\n",
      " 'MGR': 7698,\n",
      " 'SAL': 1250.0,\n",
      " '_id': ObjectId('6232c6e989fd012ac7c4ce4f')}\n",
      "{'': '7',\n",
      " 'DEPTNO': '20',\n",
      " 'EMPNO': '7788',\n",
      " 'ENAME': 'SCOTT',\n",
      " 'HIREDATE': '1987-06-28',\n",
      " 'JOB': 'ANALYST',\n",
      " 'MGR': '7566',\n",
      " 'SAL': '3000.00',\n",
      " '_id': ObjectId('6232b72aac16255c494f1e49')}\n",
      "{'': '7',\n",
      " 'DEPTNO': 20,\n",
      " 'EMPNO': 7788,\n",
      " 'ENAME': 'SCOTT',\n",
      " 'HIREDATE': '1987-06-28',\n",
      " 'JOB': 'ANALYST',\n",
      " 'MGR': 7566,\n",
      " 'SAL': 3000.0,\n",
      " '_id': ObjectId('6232c6e989fd012ac7c4ce52')}\n",
      "{'': '0',\n",
      " 'DEPTNO': '20',\n",
      " 'EMPNO': '7369',\n",
      " 'ENAME': 'SMITH',\n",
      " 'HIREDATE': '1980-12-17',\n",
      " 'JOB': 'CLERK',\n",
      " 'MGR': '7902',\n",
      " 'SAL': 880,\n",
      " '_id': ObjectId('6232b72aac16255c494f1e42')}\n",
      "{'': '0',\n",
      " 'DEPTNO': 20,\n",
      " 'EMPNO': 7369,\n",
      " 'ENAME': 'SMITH',\n",
      " 'HIREDATE': '1980-12-17',\n",
      " 'JOB': 'CLERK',\n",
      " 'MGR': 7902,\n",
      " 'SAL': 800.0,\n",
      " '_id': ObjectId('6232c6e989fd012ac7c4ce4b')}\n",
      "{'': '9',\n",
      " 'COMM': '0.00',\n",
      " 'DEPTNO': '30',\n",
      " 'EMPNO': '7844',\n",
      " 'ENAME': 'TURNER',\n",
      " 'HIREDATE': '1981-09-08',\n",
      " 'JOB': 'SALESMAN',\n",
      " 'MGR': '7698',\n",
      " 'SAL': '1500.00',\n",
      " '_id': ObjectId('6232b72aac16255c494f1e4b')}\n",
      "{'': '9',\n",
      " 'COMM': 0.0,\n",
      " 'DEPTNO': 30,\n",
      " 'EMPNO': 7844,\n",
      " 'ENAME': 'TURNER',\n",
      " 'HIREDATE': '1981-09-08',\n",
      " 'JOB': 'SALESMAN',\n",
      " 'MGR': 7698,\n",
      " 'SAL': 1500.0,\n",
      " '_id': ObjectId('6232c6e989fd012ac7c4ce54')}\n",
      "{'': '2',\n",
      " 'COMM': '500.00',\n",
      " 'DEPTNO': '30',\n",
      " 'EMPNO': '7521',\n",
      " 'ENAME': 'WARD',\n",
      " 'HIREDATE': '1981-02-22',\n",
      " 'JOB': 'SALESMAN',\n",
      " 'MGR': '7698',\n",
      " 'SAL': '1250.00',\n",
      " '_id': ObjectId('6232b72aac16255c494f1e44')}\n",
      "{'': '2',\n",
      " 'COMM': 500.0,\n",
      " 'DEPTNO': 30,\n",
      " 'EMPNO': 7521,\n",
      " 'ENAME': 'WARD',\n",
      " 'HIREDATE': '1981-02-22',\n",
      " 'JOB': 'SALESMAN',\n",
      " 'MGR': 7698,\n",
      " 'SAL': 1250.0,\n",
      " '_id': ObjectId('6232c6e989fd012ac7c4ce4d')}\n"
     ]
    }
   ],
   "source": [
    "result = db.emp.find().sort(\"ENAME\")\n",
    "\n",
    "for list in result:\n",
    "    pprint.pprint(list)\n",
    "\n",
    "# SELECT * FROM emp ORDER BY ENAME"
   ]
  },
  {
   "cell_type": "code",
   "execution_count": null,
   "metadata": {},
   "outputs": [
    {
     "name": "stdout",
     "output_type": "stream",
     "text": [
      "{'_id': ObjectId('6232c6e989fd012ac7c4ce4e'), '': '3', 'EMPNO': 7566, 'ENAME': 'JONES', 'JOB': 'MANAGER', 'MGR': 7839, 'HIREDATE': '1981-04-02', 'SAL': 2975.0, 'DEPTNO': 20}\n",
      "{'_id': ObjectId('6232c6e989fd012ac7c4ce50'), '': '5', 'EMPNO': 7698, 'ENAME': 'BLAKE', 'JOB': 'MANAGER', 'MGR': 7839, 'HIREDATE': '1981-05-01', 'SAL': 2850.0, 'DEPTNO': 30}\n",
      "{'_id': ObjectId('6232c6e989fd012ac7c4ce51'), '': '6', 'EMPNO': 7782, 'ENAME': 'CLARK', 'JOB': 'MANAGER', 'MGR': 7839, 'HIREDATE': '1981-06-09', 'SAL': 2450.0, 'DEPTNO': 10}\n",
      "{'_id': ObjectId('6232c6e989fd012ac7c4ce52'), '': '7', 'EMPNO': 7788, 'ENAME': 'SCOTT', 'JOB': 'ANALYST', 'MGR': 7566, 'HIREDATE': '1987-06-28', 'SAL': 3000.0, 'DEPTNO': 20}\n",
      "{'_id': ObjectId('6232c6e989fd012ac7c4ce53'), '': '8', 'EMPNO': 7839, 'ENAME': 'KING', 'JOB': 'PRESIDENT', 'HIREDATE': '1981-11-17', 'SAL': 5000.0, 'DEPTNO': 10}\n",
      "{'_id': ObjectId('6232c6e989fd012ac7c4ce57'), '': '12', 'EMPNO': 7902, 'ENAME': 'FORD', 'JOB': 'ANALYST', 'MGR': 7566, 'HIREDATE': '1981-12-03', 'SAL': 3000.0, 'DEPTNO': 20}\n"
     ]
    }
   ],
   "source": [
    "# 급여가 2000보다 큰 데이터만 출력\n",
    "result = db.emp.find( \n",
    "    { \n",
    "        \"SAL\" : { \n",
    "            \"$gt\": 2000\n",
    "        }\n",
    "    }\n",
    ")\n",
    "for list in result:\n",
    "    print(list)\n",
    "\n",
    "# SELECT * FROM emp WHERE SAL > 2000"
   ]
  },
  {
   "cell_type": "code",
   "execution_count": null,
   "metadata": {},
   "outputs": [
    {
     "name": "stdout",
     "output_type": "stream",
     "text": [
      "{'_id': ObjectId('6232c6e989fd012ac7c4ce4e'), '': '3', 'EMPNO': 7566, 'ENAME': 'JONES', 'JOB': 'MANAGER', 'MGR': 7839, 'HIREDATE': '1981-04-02', 'SAL': 2975.0, 'DEPTNO': 20}\n",
      "{'_id': ObjectId('6232c6e989fd012ac7c4ce50'), '': '5', 'EMPNO': 7698, 'ENAME': 'BLAKE', 'JOB': 'MANAGER', 'MGR': 7839, 'HIREDATE': '1981-05-01', 'SAL': 2850.0, 'DEPTNO': 30}\n",
      "{'_id': ObjectId('6232c6e989fd012ac7c4ce51'), '': '6', 'EMPNO': 7782, 'ENAME': 'CLARK', 'JOB': 'MANAGER', 'MGR': 7839, 'HIREDATE': '1981-06-09', 'SAL': 2450.0, 'DEPTNO': 10}\n",
      "{'_id': ObjectId('6232c6e989fd012ac7c4ce52'), '': '7', 'EMPNO': 7788, 'ENAME': 'SCOTT', 'JOB': 'ANALYST', 'MGR': 7566, 'HIREDATE': '1987-06-28', 'SAL': 3000.0, 'DEPTNO': 20}\n",
      "{'_id': ObjectId('6232c6e989fd012ac7c4ce53'), '': '8', 'EMPNO': 7839, 'ENAME': 'KING', 'JOB': 'PRESIDENT', 'HIREDATE': '1981-11-17', 'SAL': 5000.0, 'DEPTNO': 10}\n",
      "{'_id': ObjectId('6232c6e989fd012ac7c4ce57'), '': '12', 'EMPNO': 7902, 'ENAME': 'FORD', 'JOB': 'ANALYST', 'MGR': 7566, 'HIREDATE': '1981-12-03', 'SAL': 3000.0, 'DEPTNO': 20}\n"
     ]
    }
   ],
   "source": [
    "# 급여가 2450보다 크거나 같은 데이터만 출력\n",
    "result = db.emp.find( \n",
    "    { \n",
    "        \"SAL\" : { \n",
    "            \"$gte\": 2450\n",
    "        }\n",
    "    }\n",
    ")\n",
    "for list in result:\n",
    "    print(list)\n",
    "\n",
    "# SELECT * FROM emp WHERE SAL >= 2450"
   ]
  },
  {
   "cell_type": "code",
   "execution_count": null,
   "metadata": {},
   "outputs": [
    {
     "name": "stdout",
     "output_type": "stream",
     "text": [
      "{'_id': ObjectId('6232c6e989fd012ac7c4ce4b'), '': '0', 'EMPNO': 7369, 'ENAME': 'SMITH', 'JOB': 'CLERK', 'MGR': 7902, 'HIREDATE': '1980-12-17', 'SAL': 800.0, 'DEPTNO': 20}\n",
      "{'_id': ObjectId('6232c6e989fd012ac7c4ce4c'), '': '1', 'EMPNO': 7499, 'ENAME': 'ALLEN', 'JOB': 'SALESMAN', 'MGR': 7698, 'HIREDATE': '1981-02-20', 'SAL': 1600.0, 'COMM': 300.0, 'DEPTNO': 30}\n",
      "{'_id': ObjectId('6232c6e989fd012ac7c4ce4d'), '': '2', 'EMPNO': 7521, 'ENAME': 'WARD', 'JOB': 'SALESMAN', 'MGR': 7698, 'HIREDATE': '1981-02-22', 'SAL': 1250.0, 'COMM': 500.0, 'DEPTNO': 30}\n",
      "{'_id': ObjectId('6232c6e989fd012ac7c4ce4f'), '': '4', 'EMPNO': 7654, 'ENAME': 'MARTIN', 'JOB': 'SALESMAN', 'MGR': 7698, 'HIREDATE': '1981-09-28', 'SAL': 1250.0, 'COMM': 1400.0, 'DEPTNO': 30}\n",
      "{'_id': ObjectId('6232c6e989fd012ac7c4ce54'), '': '9', 'EMPNO': 7844, 'ENAME': 'TURNER', 'JOB': 'SALESMAN', 'MGR': 7698, 'HIREDATE': '1981-09-08', 'SAL': 1500.0, 'COMM': 0.0, 'DEPTNO': 30}\n",
      "{'_id': ObjectId('6232c6e989fd012ac7c4ce55'), '': '10', 'EMPNO': 7876, 'ENAME': 'ADAMS', 'JOB': 'CLERK', 'MGR': 7788, 'HIREDATE': '1987-07-13', 'SAL': 1100.0, 'DEPTNO': 20}\n",
      "{'_id': ObjectId('6232c6e989fd012ac7c4ce56'), '': '11', 'EMPNO': 7900, 'ENAME': 'JAMES', 'JOB': 'CLERK', 'MGR': 7698, 'HIREDATE': '1981-12-03', 'SAL': 950.0, 'DEPTNO': 30}\n",
      "{'_id': ObjectId('6232c6e989fd012ac7c4ce58'), '': '13', 'EMPNO': 7934, 'ENAME': 'MILLER', 'JOB': 'CLERK', 'MGR': 7782, 'HIREDATE': '1982-01-23', 'SAL': 1300.0, 'DEPTNO': 10}\n"
     ]
    }
   ],
   "source": [
    "# 급여가 2450보다 작은 데이터만 출력\n",
    "result = db.emp.find( \n",
    "    { \n",
    "        \"SAL\" : { \n",
    "            \"$lt\": 2450\n",
    "        }\n",
    "    }\n",
    ")\n",
    "for list in result:\n",
    "    print(list)\n",
    "\n",
    "# SELECT * FROM emp WHERE SAL < 2450"
   ]
  },
  {
   "cell_type": "code",
   "execution_count": null,
   "metadata": {},
   "outputs": [
    {
     "name": "stdout",
     "output_type": "stream",
     "text": [
      "{'_id': ObjectId('6232b72aac16255c494f1e42'), '': '0', 'EMPNO': '7369', 'ENAME': 'SMITH', 'JOB': 'CLERK', 'MGR': '7902', 'HIREDATE': '1980-12-17', 'SAL': '800.00', 'DEPTNO': '20'}\n",
      "{'_id': ObjectId('6232b72aac16255c494f1e43'), '': '1', 'EMPNO': '7499', 'ENAME': 'ALLEN', 'JOB': 'SALESMAN', 'MGR': '7698', 'HIREDATE': '1981-02-20', 'SAL': '1600.00', 'COMM': '300.00', 'DEPTNO': '30'}\n",
      "{'_id': ObjectId('6232c6e989fd012ac7c4ce4b'), '': '0', 'EMPNO': 7369, 'ENAME': 'SMITH', 'JOB': 'CLERK', 'MGR': 7902, 'HIREDATE': '1980-12-17', 'SAL': 800.0, 'DEPTNO': 20}\n",
      "{'_id': ObjectId('6232c6e989fd012ac7c4ce4c'), '': '1', 'EMPNO': 7499, 'ENAME': 'ALLEN', 'JOB': 'SALESMAN', 'MGR': 7698, 'HIREDATE': '1981-02-20', 'SAL': 1600.0, 'COMM': 300.0, 'DEPTNO': 30}\n"
     ]
    }
   ],
   "source": [
    "# SELECT * FROM emp WHERE ENAME = SMITH OR ENAME = ALLEN\n",
    "result = db.emp.find( \n",
    "    { \n",
    "        \"$or\" : [ \n",
    "            { \n",
    "                \"ENAME\" : \"SMITH\"\n",
    "            }, \n",
    "            { \n",
    "                \"ENAME\" : \"ALLEN\"\n",
    "            }\n",
    "        ]\n",
    "    }\n",
    ")\n",
    "for list in result:\n",
    "    print(list)\n",
    "\n",
    "# AND를 쓰고 싶으면 {} 안에 저거 둘 다 ,로 붙여서 넣으면 됨"
   ]
  },
  {
   "cell_type": "code",
   "execution_count": null,
   "metadata": {},
   "outputs": [
    {
     "data": {
      "text/html": [
       "<div>\n",
       "<style scoped>\n",
       "    .dataframe tbody tr th:only-of-type {\n",
       "        vertical-align: middle;\n",
       "    }\n",
       "\n",
       "    .dataframe tbody tr th {\n",
       "        vertical-align: top;\n",
       "    }\n",
       "\n",
       "    .dataframe thead th {\n",
       "        text-align: right;\n",
       "    }\n",
       "</style>\n",
       "<table border=\"1\" class=\"dataframe\">\n",
       "  <thead>\n",
       "    <tr style=\"text-align: right;\">\n",
       "      <th></th>\n",
       "      <th>_id</th>\n",
       "      <th></th>\n",
       "      <th>EMPNO</th>\n",
       "      <th>ENAME</th>\n",
       "      <th>JOB</th>\n",
       "      <th>MGR</th>\n",
       "      <th>HIREDATE</th>\n",
       "      <th>SAL</th>\n",
       "      <th>DEPTNO</th>\n",
       "    </tr>\n",
       "  </thead>\n",
       "  <tbody>\n",
       "    <tr>\n",
       "      <th>0</th>\n",
       "      <td>6232c6e989fd012ac7c4ce4e</td>\n",
       "      <td>3</td>\n",
       "      <td>7566</td>\n",
       "      <td>JONES</td>\n",
       "      <td>MANAGER</td>\n",
       "      <td>7839</td>\n",
       "      <td>1981-04-02</td>\n",
       "      <td>2975.0</td>\n",
       "      <td>20</td>\n",
       "    </tr>\n",
       "    <tr>\n",
       "      <th>1</th>\n",
       "      <td>6232c6e989fd012ac7c4ce50</td>\n",
       "      <td>5</td>\n",
       "      <td>7698</td>\n",
       "      <td>BLAKE</td>\n",
       "      <td>MANAGER</td>\n",
       "      <td>7839</td>\n",
       "      <td>1981-05-01</td>\n",
       "      <td>2850.0</td>\n",
       "      <td>30</td>\n",
       "    </tr>\n",
       "    <tr>\n",
       "      <th>2</th>\n",
       "      <td>6232c6e989fd012ac7c4ce51</td>\n",
       "      <td>6</td>\n",
       "      <td>7782</td>\n",
       "      <td>CLARK</td>\n",
       "      <td>MANAGER</td>\n",
       "      <td>7839</td>\n",
       "      <td>1981-06-09</td>\n",
       "      <td>2450.0</td>\n",
       "      <td>10</td>\n",
       "    </tr>\n",
       "    <tr>\n",
       "      <th>3</th>\n",
       "      <td>6232c6e989fd012ac7c4ce52</td>\n",
       "      <td>7</td>\n",
       "      <td>7788</td>\n",
       "      <td>SCOTT</td>\n",
       "      <td>ANALYST</td>\n",
       "      <td>7566</td>\n",
       "      <td>1987-06-28</td>\n",
       "      <td>3000.0</td>\n",
       "      <td>20</td>\n",
       "    </tr>\n",
       "    <tr>\n",
       "      <th>4</th>\n",
       "      <td>6232c6e989fd012ac7c4ce57</td>\n",
       "      <td>12</td>\n",
       "      <td>7902</td>\n",
       "      <td>FORD</td>\n",
       "      <td>ANALYST</td>\n",
       "      <td>7566</td>\n",
       "      <td>1981-12-03</td>\n",
       "      <td>3000.0</td>\n",
       "      <td>20</td>\n",
       "    </tr>\n",
       "  </tbody>\n",
       "</table>\n",
       "</div>"
      ],
      "text/plain": [
       "                        _id      EMPNO  ENAME      JOB   MGR    HIREDATE  \\\n",
       "0  6232c6e989fd012ac7c4ce4e   3   7566  JONES  MANAGER  7839  1981-04-02   \n",
       "1  6232c6e989fd012ac7c4ce50   5   7698  BLAKE  MANAGER  7839  1981-05-01   \n",
       "2  6232c6e989fd012ac7c4ce51   6   7782  CLARK  MANAGER  7839  1981-06-09   \n",
       "3  6232c6e989fd012ac7c4ce52   7   7788  SCOTT  ANALYST  7566  1987-06-28   \n",
       "4  6232c6e989fd012ac7c4ce57  12   7902   FORD  ANALYST  7566  1981-12-03   \n",
       "\n",
       "      SAL  DEPTNO  \n",
       "0  2975.0      20  \n",
       "1  2850.0      30  \n",
       "2  2450.0      10  \n",
       "3  3000.0      20  \n",
       "4  3000.0      20  "
      ]
     },
     "execution_count": 53,
     "metadata": {},
     "output_type": "execute_result"
    }
   ],
   "source": [
    "# SELECT * FROM emp WHERE SAL >= 2000 AND SAL < 4000\n",
    "result = db.emp.find( \n",
    "    { \n",
    "        \"SAL\" : { \n",
    "            \"$gte\": 2000, \"$lt\": 4000}\n",
    "    }\n",
    ")\n",
    "pd.DataFrame(result)"
   ]
  },
  {
   "cell_type": "code",
   "execution_count": null,
   "metadata": {},
   "outputs": [
    {
     "data": {
      "text/html": [
       "<div>\n",
       "<style scoped>\n",
       "    .dataframe tbody tr th:only-of-type {\n",
       "        vertical-align: middle;\n",
       "    }\n",
       "\n",
       "    .dataframe tbody tr th {\n",
       "        vertical-align: top;\n",
       "    }\n",
       "\n",
       "    .dataframe thead th {\n",
       "        text-align: right;\n",
       "    }\n",
       "</style>\n",
       "<table border=\"1\" class=\"dataframe\">\n",
       "  <thead>\n",
       "    <tr style=\"text-align: right;\">\n",
       "      <th></th>\n",
       "      <th>_id</th>\n",
       "      <th></th>\n",
       "      <th>EMPNO</th>\n",
       "      <th>ENAME</th>\n",
       "      <th>JOB</th>\n",
       "      <th>MGR</th>\n",
       "      <th>HIREDATE</th>\n",
       "      <th>SAL</th>\n",
       "      <th>DEPTNO</th>\n",
       "    </tr>\n",
       "  </thead>\n",
       "  <tbody>\n",
       "    <tr>\n",
       "      <th>0</th>\n",
       "      <td>6232b72aac16255c494f1e42</td>\n",
       "      <td>0</td>\n",
       "      <td>7369</td>\n",
       "      <td>SMITH</td>\n",
       "      <td>CLERK</td>\n",
       "      <td>7902</td>\n",
       "      <td>1980-12-17</td>\n",
       "      <td>800.00</td>\n",
       "      <td>20</td>\n",
       "    </tr>\n",
       "    <tr>\n",
       "      <th>1</th>\n",
       "      <td>6232b72aac16255c494f1e49</td>\n",
       "      <td>7</td>\n",
       "      <td>7788</td>\n",
       "      <td>SCOTT</td>\n",
       "      <td>ANALYST</td>\n",
       "      <td>7566</td>\n",
       "      <td>1987-06-28</td>\n",
       "      <td>3000.00</td>\n",
       "      <td>20</td>\n",
       "    </tr>\n",
       "    <tr>\n",
       "      <th>2</th>\n",
       "      <td>6232c6e989fd012ac7c4ce4b</td>\n",
       "      <td>0</td>\n",
       "      <td>7369</td>\n",
       "      <td>SMITH</td>\n",
       "      <td>CLERK</td>\n",
       "      <td>7902</td>\n",
       "      <td>1980-12-17</td>\n",
       "      <td>800.0</td>\n",
       "      <td>20</td>\n",
       "    </tr>\n",
       "    <tr>\n",
       "      <th>3</th>\n",
       "      <td>6232c6e989fd012ac7c4ce52</td>\n",
       "      <td>7</td>\n",
       "      <td>7788</td>\n",
       "      <td>SCOTT</td>\n",
       "      <td>ANALYST</td>\n",
       "      <td>7566</td>\n",
       "      <td>1987-06-28</td>\n",
       "      <td>3000.0</td>\n",
       "      <td>20</td>\n",
       "    </tr>\n",
       "  </tbody>\n",
       "</table>\n",
       "</div>"
      ],
      "text/plain": [
       "                        _id    EMPNO  ENAME      JOB   MGR    HIREDATE  \\\n",
       "0  6232b72aac16255c494f1e42  0  7369  SMITH    CLERK  7902  1980-12-17   \n",
       "1  6232b72aac16255c494f1e49  7  7788  SCOTT  ANALYST  7566  1987-06-28   \n",
       "2  6232c6e989fd012ac7c4ce4b  0  7369  SMITH    CLERK  7902  1980-12-17   \n",
       "3  6232c6e989fd012ac7c4ce52  7  7788  SCOTT  ANALYST  7566  1987-06-28   \n",
       "\n",
       "       SAL DEPTNO  \n",
       "0   800.00     20  \n",
       "1  3000.00     20  \n",
       "2    800.0     20  \n",
       "3   3000.0     20  "
      ]
     },
     "execution_count": 56,
     "metadata": {},
     "output_type": "execute_result"
    }
   ],
   "source": [
    "# SELECT * FROM emp WHERE ENAME LIKE %S%  %위치로 S로 시작하냐 끝나냐 포함하냐\n",
    "result = db.emp.find( \n",
    "    { \n",
    "        \"ENAME\" : {\n",
    "            \"$regex\" : \"^S\"\n",
    "        }\n",
    "    }\n",
    ")\n",
    "pd.DataFrame(result)"
   ]
  },
  {
   "cell_type": "code",
   "execution_count": 17,
   "metadata": {},
   "outputs": [
    {
     "data": {
      "text/html": [
       "<div>\n",
       "<style scoped>\n",
       "    .dataframe tbody tr th:only-of-type {\n",
       "        vertical-align: middle;\n",
       "    }\n",
       "\n",
       "    .dataframe tbody tr th {\n",
       "        vertical-align: top;\n",
       "    }\n",
       "\n",
       "    .dataframe thead th {\n",
       "        text-align: right;\n",
       "    }\n",
       "</style>\n",
       "<table border=\"1\" class=\"dataframe\">\n",
       "  <thead>\n",
       "    <tr style=\"text-align: right;\">\n",
       "      <th></th>\n",
       "      <th>ENAME</th>\n",
       "      <th>JOB</th>\n",
       "      <th>SAL</th>\n",
       "      <th>DEPTNO</th>\n",
       "    </tr>\n",
       "  </thead>\n",
       "  <tbody>\n",
       "    <tr>\n",
       "      <th>0</th>\n",
       "      <td>ALLEN</td>\n",
       "      <td>SALESMAN</td>\n",
       "      <td>1600.0</td>\n",
       "      <td>30</td>\n",
       "    </tr>\n",
       "    <tr>\n",
       "      <th>1</th>\n",
       "      <td>TURNER</td>\n",
       "      <td>SALESMAN</td>\n",
       "      <td>1500.0</td>\n",
       "      <td>30</td>\n",
       "    </tr>\n",
       "  </tbody>\n",
       "</table>\n",
       "</div>"
      ],
      "text/plain": [
       "    ENAME       JOB     SAL  DEPTNO\n",
       "0   ALLEN  SALESMAN  1600.0      30\n",
       "1  TURNER  SALESMAN  1500.0      30"
      ]
     },
     "execution_count": 17,
     "metadata": {},
     "output_type": "execute_result"
    }
   ],
   "source": [
    "# SELECT ENAME, JOB, SAL, DEPTNO FROM emp \n",
    "# WHERE SAL > 1500 AND \n",
    "# SAL <= 3000 AND \n",
    "# JOB = CLERK \n",
    "# ORDER BY ENAME\n",
    "result = db.emp.find( \n",
    "    { \n",
    "        \"SAL\" :{ \n",
    "            \"$gt\" : 1250, \n",
    "            \"$lte\" : 3000\n",
    "        }, \n",
    "        \"JOB\" : \"SALESMAN\"\n",
    "    }, \n",
    "    { \n",
    "        \"ENAME\" : 1, \n",
    "        \"JOB\" : 1, \n",
    "        \"SAL\" : 1, \n",
    "        \"DEPTNO\" : 1, \n",
    "        \"_id\" : 0\n",
    "    }\n",
    ").sort(\"ENAME\",1)\n",
    "\n",
    "pd.DataFrame(result)"
   ]
  },
  {
   "cell_type": "code",
   "execution_count": 18,
   "metadata": {},
   "outputs": [
    {
     "data": {
      "text/html": [
       "<div>\n",
       "<style scoped>\n",
       "    .dataframe tbody tr th:only-of-type {\n",
       "        vertical-align: middle;\n",
       "    }\n",
       "\n",
       "    .dataframe tbody tr th {\n",
       "        vertical-align: top;\n",
       "    }\n",
       "\n",
       "    .dataframe thead th {\n",
       "        text-align: right;\n",
       "    }\n",
       "</style>\n",
       "<table border=\"1\" class=\"dataframe\">\n",
       "  <thead>\n",
       "    <tr style=\"text-align: right;\">\n",
       "      <th></th>\n",
       "      <th>_id</th>\n",
       "      <th></th>\n",
       "      <th>EMPNO</th>\n",
       "      <th>ENAME</th>\n",
       "      <th>JOB</th>\n",
       "      <th>MGR</th>\n",
       "      <th>HIREDATE</th>\n",
       "      <th>SAL</th>\n",
       "      <th>DEPTNO</th>\n",
       "      <th>COMM</th>\n",
       "    </tr>\n",
       "  </thead>\n",
       "  <tbody>\n",
       "    <tr>\n",
       "      <th>0</th>\n",
       "      <td>6232b72aac16255c494f1e42</td>\n",
       "      <td>0</td>\n",
       "      <td>7369</td>\n",
       "      <td>SMITH</td>\n",
       "      <td>CLERK</td>\n",
       "      <td>7902</td>\n",
       "      <td>1980-12-17</td>\n",
       "      <td>800.00</td>\n",
       "      <td>20</td>\n",
       "      <td>NaN</td>\n",
       "    </tr>\n",
       "    <tr>\n",
       "      <th>1</th>\n",
       "      <td>6232b72aac16255c494f1e43</td>\n",
       "      <td>1</td>\n",
       "      <td>7499</td>\n",
       "      <td>ALLEN</td>\n",
       "      <td>SALESMAN</td>\n",
       "      <td>7698</td>\n",
       "      <td>1981-02-20</td>\n",
       "      <td>1600.00</td>\n",
       "      <td>30</td>\n",
       "      <td>300.00</td>\n",
       "    </tr>\n",
       "    <tr>\n",
       "      <th>2</th>\n",
       "      <td>6232b72aac16255c494f1e44</td>\n",
       "      <td>2</td>\n",
       "      <td>7521</td>\n",
       "      <td>WARD</td>\n",
       "      <td>SALESMAN</td>\n",
       "      <td>7698</td>\n",
       "      <td>1981-02-22</td>\n",
       "      <td>1250.00</td>\n",
       "      <td>30</td>\n",
       "      <td>500.00</td>\n",
       "    </tr>\n",
       "    <tr>\n",
       "      <th>3</th>\n",
       "      <td>6232b72aac16255c494f1e45</td>\n",
       "      <td>3</td>\n",
       "      <td>7566</td>\n",
       "      <td>JONES</td>\n",
       "      <td>MANAGER</td>\n",
       "      <td>7839</td>\n",
       "      <td>1981-04-02</td>\n",
       "      <td>2975.00</td>\n",
       "      <td>20</td>\n",
       "      <td>NaN</td>\n",
       "    </tr>\n",
       "    <tr>\n",
       "      <th>4</th>\n",
       "      <td>6232b72aac16255c494f1e46</td>\n",
       "      <td>4</td>\n",
       "      <td>7654</td>\n",
       "      <td>MARTIN</td>\n",
       "      <td>SALESMAN</td>\n",
       "      <td>7698</td>\n",
       "      <td>1981-09-28</td>\n",
       "      <td>1250.00</td>\n",
       "      <td>30</td>\n",
       "      <td>1400.00</td>\n",
       "    </tr>\n",
       "    <tr>\n",
       "      <th>5</th>\n",
       "      <td>6232b72aac16255c494f1e47</td>\n",
       "      <td>5</td>\n",
       "      <td>7698</td>\n",
       "      <td>BLAKE</td>\n",
       "      <td>MANAGER</td>\n",
       "      <td>7839</td>\n",
       "      <td>1981-05-01</td>\n",
       "      <td>2850.00</td>\n",
       "      <td>30</td>\n",
       "      <td>NaN</td>\n",
       "    </tr>\n",
       "    <tr>\n",
       "      <th>6</th>\n",
       "      <td>6232b72aac16255c494f1e48</td>\n",
       "      <td>6</td>\n",
       "      <td>7782</td>\n",
       "      <td>CLARK</td>\n",
       "      <td>MANAGER</td>\n",
       "      <td>7839</td>\n",
       "      <td>1981-06-09</td>\n",
       "      <td>2450.00</td>\n",
       "      <td>10</td>\n",
       "      <td>NaN</td>\n",
       "    </tr>\n",
       "    <tr>\n",
       "      <th>7</th>\n",
       "      <td>6232b72aac16255c494f1e49</td>\n",
       "      <td>7</td>\n",
       "      <td>7788</td>\n",
       "      <td>SCOTT</td>\n",
       "      <td>ANALYST</td>\n",
       "      <td>7566</td>\n",
       "      <td>1987-06-28</td>\n",
       "      <td>3000.00</td>\n",
       "      <td>20</td>\n",
       "      <td>NaN</td>\n",
       "    </tr>\n",
       "    <tr>\n",
       "      <th>8</th>\n",
       "      <td>6232b72aac16255c494f1e4a</td>\n",
       "      <td>8</td>\n",
       "      <td>7839</td>\n",
       "      <td>KING</td>\n",
       "      <td>PRESIDENT</td>\n",
       "      <td>NaN</td>\n",
       "      <td>1981-11-17</td>\n",
       "      <td>5000.00</td>\n",
       "      <td>10</td>\n",
       "      <td>NaN</td>\n",
       "    </tr>\n",
       "    <tr>\n",
       "      <th>9</th>\n",
       "      <td>6232b72aac16255c494f1e4b</td>\n",
       "      <td>9</td>\n",
       "      <td>7844</td>\n",
       "      <td>TURNER</td>\n",
       "      <td>SALESMAN</td>\n",
       "      <td>7698</td>\n",
       "      <td>1981-09-08</td>\n",
       "      <td>1500.00</td>\n",
       "      <td>30</td>\n",
       "      <td>0.00</td>\n",
       "    </tr>\n",
       "    <tr>\n",
       "      <th>10</th>\n",
       "      <td>6232b72aac16255c494f1e4c</td>\n",
       "      <td>10</td>\n",
       "      <td>7876</td>\n",
       "      <td>ADAMS</td>\n",
       "      <td>CLERK</td>\n",
       "      <td>7788</td>\n",
       "      <td>1987-07-13</td>\n",
       "      <td>1100.00</td>\n",
       "      <td>20</td>\n",
       "      <td>NaN</td>\n",
       "    </tr>\n",
       "    <tr>\n",
       "      <th>11</th>\n",
       "      <td>6232b72aac16255c494f1e4d</td>\n",
       "      <td>11</td>\n",
       "      <td>7900</td>\n",
       "      <td>JAMES</td>\n",
       "      <td>CLERK</td>\n",
       "      <td>7698</td>\n",
       "      <td>1981-12-03</td>\n",
       "      <td>950.00</td>\n",
       "      <td>30</td>\n",
       "      <td>NaN</td>\n",
       "    </tr>\n",
       "    <tr>\n",
       "      <th>12</th>\n",
       "      <td>6232b72aac16255c494f1e4e</td>\n",
       "      <td>12</td>\n",
       "      <td>7902</td>\n",
       "      <td>FORD</td>\n",
       "      <td>ANALYST</td>\n",
       "      <td>7566</td>\n",
       "      <td>1981-12-03</td>\n",
       "      <td>3000.00</td>\n",
       "      <td>20</td>\n",
       "      <td>NaN</td>\n",
       "    </tr>\n",
       "    <tr>\n",
       "      <th>13</th>\n",
       "      <td>6232b72aac16255c494f1e4f</td>\n",
       "      <td>13</td>\n",
       "      <td>7934</td>\n",
       "      <td>MILLER</td>\n",
       "      <td>CLERK</td>\n",
       "      <td>7782</td>\n",
       "      <td>1982-01-23</td>\n",
       "      <td>1300.00</td>\n",
       "      <td>10</td>\n",
       "      <td>NaN</td>\n",
       "    </tr>\n",
       "    <tr>\n",
       "      <th>14</th>\n",
       "      <td>6232c6e989fd012ac7c4ce4b</td>\n",
       "      <td>0</td>\n",
       "      <td>7369</td>\n",
       "      <td>SMITH</td>\n",
       "      <td>CLERK</td>\n",
       "      <td>7902</td>\n",
       "      <td>1980-12-17</td>\n",
       "      <td>800.0</td>\n",
       "      <td>20</td>\n",
       "      <td>NaN</td>\n",
       "    </tr>\n",
       "    <tr>\n",
       "      <th>15</th>\n",
       "      <td>6232c6e989fd012ac7c4ce4c</td>\n",
       "      <td>1</td>\n",
       "      <td>7499</td>\n",
       "      <td>ALLEN</td>\n",
       "      <td>SALESMAN</td>\n",
       "      <td>7698</td>\n",
       "      <td>1981-02-20</td>\n",
       "      <td>1600.0</td>\n",
       "      <td>30</td>\n",
       "      <td>300.0</td>\n",
       "    </tr>\n",
       "    <tr>\n",
       "      <th>16</th>\n",
       "      <td>6232c6e989fd012ac7c4ce4d</td>\n",
       "      <td>2</td>\n",
       "      <td>7521</td>\n",
       "      <td>WARD</td>\n",
       "      <td>SALESMAN</td>\n",
       "      <td>7698</td>\n",
       "      <td>1981-02-22</td>\n",
       "      <td>1250.0</td>\n",
       "      <td>30</td>\n",
       "      <td>500.0</td>\n",
       "    </tr>\n",
       "    <tr>\n",
       "      <th>17</th>\n",
       "      <td>6232c6e989fd012ac7c4ce4e</td>\n",
       "      <td>3</td>\n",
       "      <td>7566</td>\n",
       "      <td>JONES</td>\n",
       "      <td>MANAGER</td>\n",
       "      <td>7839</td>\n",
       "      <td>1981-04-02</td>\n",
       "      <td>2975.0</td>\n",
       "      <td>20</td>\n",
       "      <td>NaN</td>\n",
       "    </tr>\n",
       "    <tr>\n",
       "      <th>18</th>\n",
       "      <td>6232c6e989fd012ac7c4ce4f</td>\n",
       "      <td>4</td>\n",
       "      <td>7654</td>\n",
       "      <td>MARTIN</td>\n",
       "      <td>SALESMAN</td>\n",
       "      <td>7698</td>\n",
       "      <td>1981-09-28</td>\n",
       "      <td>1250.0</td>\n",
       "      <td>30</td>\n",
       "      <td>1400.0</td>\n",
       "    </tr>\n",
       "    <tr>\n",
       "      <th>19</th>\n",
       "      <td>6232c6e989fd012ac7c4ce50</td>\n",
       "      <td>5</td>\n",
       "      <td>7698</td>\n",
       "      <td>BLAKE</td>\n",
       "      <td>MANAGER</td>\n",
       "      <td>7839</td>\n",
       "      <td>1981-05-01</td>\n",
       "      <td>2850.0</td>\n",
       "      <td>30</td>\n",
       "      <td>NaN</td>\n",
       "    </tr>\n",
       "    <tr>\n",
       "      <th>20</th>\n",
       "      <td>6232c6e989fd012ac7c4ce51</td>\n",
       "      <td>6</td>\n",
       "      <td>7782</td>\n",
       "      <td>CLARK</td>\n",
       "      <td>MANAGER</td>\n",
       "      <td>7839</td>\n",
       "      <td>1981-06-09</td>\n",
       "      <td>2450.0</td>\n",
       "      <td>10</td>\n",
       "      <td>NaN</td>\n",
       "    </tr>\n",
       "    <tr>\n",
       "      <th>21</th>\n",
       "      <td>6232c6e989fd012ac7c4ce52</td>\n",
       "      <td>7</td>\n",
       "      <td>7788</td>\n",
       "      <td>SCOTT</td>\n",
       "      <td>ANALYST</td>\n",
       "      <td>7566</td>\n",
       "      <td>1987-06-28</td>\n",
       "      <td>3000.0</td>\n",
       "      <td>20</td>\n",
       "      <td>NaN</td>\n",
       "    </tr>\n",
       "    <tr>\n",
       "      <th>22</th>\n",
       "      <td>6232c6e989fd012ac7c4ce53</td>\n",
       "      <td>8</td>\n",
       "      <td>7839</td>\n",
       "      <td>KING</td>\n",
       "      <td>PRESIDENT</td>\n",
       "      <td>NaN</td>\n",
       "      <td>1981-11-17</td>\n",
       "      <td>5000.0</td>\n",
       "      <td>10</td>\n",
       "      <td>NaN</td>\n",
       "    </tr>\n",
       "    <tr>\n",
       "      <th>23</th>\n",
       "      <td>6232c6e989fd012ac7c4ce54</td>\n",
       "      <td>9</td>\n",
       "      <td>7844</td>\n",
       "      <td>TURNER</td>\n",
       "      <td>SALESMAN</td>\n",
       "      <td>7698</td>\n",
       "      <td>1981-09-08</td>\n",
       "      <td>1500.0</td>\n",
       "      <td>30</td>\n",
       "      <td>0.0</td>\n",
       "    </tr>\n",
       "    <tr>\n",
       "      <th>24</th>\n",
       "      <td>6232c6e989fd012ac7c4ce55</td>\n",
       "      <td>10</td>\n",
       "      <td>7876</td>\n",
       "      <td>ADAMS</td>\n",
       "      <td>CLERK</td>\n",
       "      <td>7788</td>\n",
       "      <td>1987-07-13</td>\n",
       "      <td>1100.0</td>\n",
       "      <td>20</td>\n",
       "      <td>NaN</td>\n",
       "    </tr>\n",
       "    <tr>\n",
       "      <th>25</th>\n",
       "      <td>6232c6e989fd012ac7c4ce56</td>\n",
       "      <td>11</td>\n",
       "      <td>7900</td>\n",
       "      <td>JAMES</td>\n",
       "      <td>CLERK</td>\n",
       "      <td>7698</td>\n",
       "      <td>1981-12-03</td>\n",
       "      <td>950.0</td>\n",
       "      <td>30</td>\n",
       "      <td>NaN</td>\n",
       "    </tr>\n",
       "    <tr>\n",
       "      <th>26</th>\n",
       "      <td>6232c6e989fd012ac7c4ce57</td>\n",
       "      <td>12</td>\n",
       "      <td>7902</td>\n",
       "      <td>FORD</td>\n",
       "      <td>ANALYST</td>\n",
       "      <td>7566</td>\n",
       "      <td>1981-12-03</td>\n",
       "      <td>3000.0</td>\n",
       "      <td>20</td>\n",
       "      <td>NaN</td>\n",
       "    </tr>\n",
       "    <tr>\n",
       "      <th>27</th>\n",
       "      <td>6232c6e989fd012ac7c4ce58</td>\n",
       "      <td>13</td>\n",
       "      <td>7934</td>\n",
       "      <td>MILLER</td>\n",
       "      <td>CLERK</td>\n",
       "      <td>7782</td>\n",
       "      <td>1982-01-23</td>\n",
       "      <td>1300.0</td>\n",
       "      <td>10</td>\n",
       "      <td>NaN</td>\n",
       "    </tr>\n",
       "  </tbody>\n",
       "</table>\n",
       "</div>"
      ],
      "text/plain": [
       "                         _id     EMPNO   ENAME        JOB   MGR    HIREDATE  \\\n",
       "0   6232b72aac16255c494f1e42   0  7369   SMITH      CLERK  7902  1980-12-17   \n",
       "1   6232b72aac16255c494f1e43   1  7499   ALLEN   SALESMAN  7698  1981-02-20   \n",
       "2   6232b72aac16255c494f1e44   2  7521    WARD   SALESMAN  7698  1981-02-22   \n",
       "3   6232b72aac16255c494f1e45   3  7566   JONES    MANAGER  7839  1981-04-02   \n",
       "4   6232b72aac16255c494f1e46   4  7654  MARTIN   SALESMAN  7698  1981-09-28   \n",
       "5   6232b72aac16255c494f1e47   5  7698   BLAKE    MANAGER  7839  1981-05-01   \n",
       "6   6232b72aac16255c494f1e48   6  7782   CLARK    MANAGER  7839  1981-06-09   \n",
       "7   6232b72aac16255c494f1e49   7  7788   SCOTT    ANALYST  7566  1987-06-28   \n",
       "8   6232b72aac16255c494f1e4a   8  7839    KING  PRESIDENT   NaN  1981-11-17   \n",
       "9   6232b72aac16255c494f1e4b   9  7844  TURNER   SALESMAN  7698  1981-09-08   \n",
       "10  6232b72aac16255c494f1e4c  10  7876   ADAMS      CLERK  7788  1987-07-13   \n",
       "11  6232b72aac16255c494f1e4d  11  7900   JAMES      CLERK  7698  1981-12-03   \n",
       "12  6232b72aac16255c494f1e4e  12  7902    FORD    ANALYST  7566  1981-12-03   \n",
       "13  6232b72aac16255c494f1e4f  13  7934  MILLER      CLERK  7782  1982-01-23   \n",
       "14  6232c6e989fd012ac7c4ce4b   0  7369   SMITH      CLERK  7902  1980-12-17   \n",
       "15  6232c6e989fd012ac7c4ce4c   1  7499   ALLEN   SALESMAN  7698  1981-02-20   \n",
       "16  6232c6e989fd012ac7c4ce4d   2  7521    WARD   SALESMAN  7698  1981-02-22   \n",
       "17  6232c6e989fd012ac7c4ce4e   3  7566   JONES    MANAGER  7839  1981-04-02   \n",
       "18  6232c6e989fd012ac7c4ce4f   4  7654  MARTIN   SALESMAN  7698  1981-09-28   \n",
       "19  6232c6e989fd012ac7c4ce50   5  7698   BLAKE    MANAGER  7839  1981-05-01   \n",
       "20  6232c6e989fd012ac7c4ce51   6  7782   CLARK    MANAGER  7839  1981-06-09   \n",
       "21  6232c6e989fd012ac7c4ce52   7  7788   SCOTT    ANALYST  7566  1987-06-28   \n",
       "22  6232c6e989fd012ac7c4ce53   8  7839    KING  PRESIDENT   NaN  1981-11-17   \n",
       "23  6232c6e989fd012ac7c4ce54   9  7844  TURNER   SALESMAN  7698  1981-09-08   \n",
       "24  6232c6e989fd012ac7c4ce55  10  7876   ADAMS      CLERK  7788  1987-07-13   \n",
       "25  6232c6e989fd012ac7c4ce56  11  7900   JAMES      CLERK  7698  1981-12-03   \n",
       "26  6232c6e989fd012ac7c4ce57  12  7902    FORD    ANALYST  7566  1981-12-03   \n",
       "27  6232c6e989fd012ac7c4ce58  13  7934  MILLER      CLERK  7782  1982-01-23   \n",
       "\n",
       "        SAL DEPTNO     COMM  \n",
       "0    800.00     20      NaN  \n",
       "1   1600.00     30   300.00  \n",
       "2   1250.00     30   500.00  \n",
       "3   2975.00     20      NaN  \n",
       "4   1250.00     30  1400.00  \n",
       "5   2850.00     30      NaN  \n",
       "6   2450.00     10      NaN  \n",
       "7   3000.00     20      NaN  \n",
       "8   5000.00     10      NaN  \n",
       "9   1500.00     30     0.00  \n",
       "10  1100.00     20      NaN  \n",
       "11   950.00     30      NaN  \n",
       "12  3000.00     20      NaN  \n",
       "13  1300.00     10      NaN  \n",
       "14    800.0     20      NaN  \n",
       "15   1600.0     30    300.0  \n",
       "16   1250.0     30    500.0  \n",
       "17   2975.0     20      NaN  \n",
       "18   1250.0     30   1400.0  \n",
       "19   2850.0     30      NaN  \n",
       "20   2450.0     10      NaN  \n",
       "21   3000.0     20      NaN  \n",
       "22   5000.0     10      NaN  \n",
       "23   1500.0     30      0.0  \n",
       "24   1100.0     20      NaN  \n",
       "25    950.0     30      NaN  \n",
       "26   3000.0     20      NaN  \n",
       "27   1300.0     10      NaN  "
      ]
     },
     "execution_count": 18,
     "metadata": {},
     "output_type": "execute_result"
    }
   ],
   "source": [
    "result = db.emp.find()\n",
    "pd.DataFrame(result)"
   ]
  },
  {
   "cell_type": "code",
   "execution_count": 19,
   "metadata": {},
   "outputs": [
    {
     "data": {
      "text/plain": [
       "<pymongo.results.UpdateResult at 0x2aef3ca5000>"
      ]
     },
     "execution_count": 19,
     "metadata": {},
     "output_type": "execute_result"
    }
   ],
   "source": [
    "db.emp.update_one( \n",
    "    { \n",
    "        \"ENAME\":\"SMITH\"\n",
    "    }, \n",
    "    { \n",
    "        \"$set\":{ \n",
    "            \"SAL\":880\n",
    "        }\n",
    "    }\n",
    ")"
   ]
  },
  {
   "cell_type": "code",
   "execution_count": 20,
   "metadata": {},
   "outputs": [
    {
     "data": {
      "text/html": [
       "<div>\n",
       "<style scoped>\n",
       "    .dataframe tbody tr th:only-of-type {\n",
       "        vertical-align: middle;\n",
       "    }\n",
       "\n",
       "    .dataframe tbody tr th {\n",
       "        vertical-align: top;\n",
       "    }\n",
       "\n",
       "    .dataframe thead th {\n",
       "        text-align: right;\n",
       "    }\n",
       "</style>\n",
       "<table border=\"1\" class=\"dataframe\">\n",
       "  <thead>\n",
       "    <tr style=\"text-align: right;\">\n",
       "      <th></th>\n",
       "      <th>_id</th>\n",
       "      <th></th>\n",
       "      <th>EMPNO</th>\n",
       "      <th>ENAME</th>\n",
       "      <th>JOB</th>\n",
       "      <th>MGR</th>\n",
       "      <th>HIREDATE</th>\n",
       "      <th>SAL</th>\n",
       "      <th>DEPTNO</th>\n",
       "    </tr>\n",
       "  </thead>\n",
       "  <tbody>\n",
       "    <tr>\n",
       "      <th>0</th>\n",
       "      <td>6232b72aac16255c494f1e42</td>\n",
       "      <td>0</td>\n",
       "      <td>7369</td>\n",
       "      <td>SMITH</td>\n",
       "      <td>CLERK</td>\n",
       "      <td>7902</td>\n",
       "      <td>1980-12-17</td>\n",
       "      <td>880.0</td>\n",
       "      <td>20</td>\n",
       "    </tr>\n",
       "    <tr>\n",
       "      <th>1</th>\n",
       "      <td>6232c6e989fd012ac7c4ce4b</td>\n",
       "      <td>0</td>\n",
       "      <td>7369</td>\n",
       "      <td>SMITH</td>\n",
       "      <td>CLERK</td>\n",
       "      <td>7902</td>\n",
       "      <td>1980-12-17</td>\n",
       "      <td>800.0</td>\n",
       "      <td>20</td>\n",
       "    </tr>\n",
       "  </tbody>\n",
       "</table>\n",
       "</div>"
      ],
      "text/plain": [
       "                        _id    EMPNO  ENAME    JOB   MGR    HIREDATE    SAL  \\\n",
       "0  6232b72aac16255c494f1e42  0  7369  SMITH  CLERK  7902  1980-12-17  880.0   \n",
       "1  6232c6e989fd012ac7c4ce4b  0  7369  SMITH  CLERK  7902  1980-12-17  800.0   \n",
       "\n",
       "  DEPTNO  \n",
       "0     20  \n",
       "1     20  "
      ]
     },
     "execution_count": 20,
     "metadata": {},
     "output_type": "execute_result"
    }
   ],
   "source": [
    "result = db.emp.find( \n",
    "    {\"ENAME\":\"SMITH\"}\n",
    ")\n",
    "pd.DataFrame(result)"
   ]
  },
  {
   "cell_type": "code",
   "execution_count": 21,
   "metadata": {},
   "outputs": [
    {
     "data": {
      "text/plain": [
       "<pymongo.results.UpdateResult at 0x2aef4e244c0>"
      ]
     },
     "execution_count": 21,
     "metadata": {},
     "output_type": "execute_result"
    }
   ],
   "source": [
    "db.emp.update_many( \n",
    "    {\"ENAME\":\"ALLEN\"}, \n",
    "    {\"$set\":{\"SAL\":2000}}\n",
    ")"
   ]
  },
  {
   "cell_type": "code",
   "execution_count": 22,
   "metadata": {},
   "outputs": [
    {
     "data": {
      "text/html": [
       "<div>\n",
       "<style scoped>\n",
       "    .dataframe tbody tr th:only-of-type {\n",
       "        vertical-align: middle;\n",
       "    }\n",
       "\n",
       "    .dataframe tbody tr th {\n",
       "        vertical-align: top;\n",
       "    }\n",
       "\n",
       "    .dataframe thead th {\n",
       "        text-align: right;\n",
       "    }\n",
       "</style>\n",
       "<table border=\"1\" class=\"dataframe\">\n",
       "  <thead>\n",
       "    <tr style=\"text-align: right;\">\n",
       "      <th></th>\n",
       "      <th>_id</th>\n",
       "      <th></th>\n",
       "      <th>EMPNO</th>\n",
       "      <th>ENAME</th>\n",
       "      <th>JOB</th>\n",
       "      <th>MGR</th>\n",
       "      <th>HIREDATE</th>\n",
       "      <th>SAL</th>\n",
       "      <th>COMM</th>\n",
       "      <th>DEPTNO</th>\n",
       "    </tr>\n",
       "  </thead>\n",
       "  <tbody>\n",
       "    <tr>\n",
       "      <th>0</th>\n",
       "      <td>6232b72aac16255c494f1e43</td>\n",
       "      <td>1</td>\n",
       "      <td>7499</td>\n",
       "      <td>ALLEN</td>\n",
       "      <td>SALESMAN</td>\n",
       "      <td>7698</td>\n",
       "      <td>1981-02-20</td>\n",
       "      <td>2000</td>\n",
       "      <td>300.00</td>\n",
       "      <td>30</td>\n",
       "    </tr>\n",
       "    <tr>\n",
       "      <th>1</th>\n",
       "      <td>6232c6e989fd012ac7c4ce4c</td>\n",
       "      <td>1</td>\n",
       "      <td>7499</td>\n",
       "      <td>ALLEN</td>\n",
       "      <td>SALESMAN</td>\n",
       "      <td>7698</td>\n",
       "      <td>1981-02-20</td>\n",
       "      <td>2000</td>\n",
       "      <td>300.0</td>\n",
       "      <td>30</td>\n",
       "    </tr>\n",
       "  </tbody>\n",
       "</table>\n",
       "</div>"
      ],
      "text/plain": [
       "                        _id    EMPNO  ENAME       JOB   MGR    HIREDATE   SAL  \\\n",
       "0  6232b72aac16255c494f1e43  1  7499  ALLEN  SALESMAN  7698  1981-02-20  2000   \n",
       "1  6232c6e989fd012ac7c4ce4c  1  7499  ALLEN  SALESMAN  7698  1981-02-20  2000   \n",
       "\n",
       "     COMM DEPTNO  \n",
       "0  300.00     30  \n",
       "1   300.0     30  "
      ]
     },
     "execution_count": 22,
     "metadata": {},
     "output_type": "execute_result"
    }
   ],
   "source": [
    "result = db.emp.find( \n",
    "    {\"ENAME\":\"ALLEN\"}\n",
    ")\n",
    "pd.DataFrame(result)"
   ]
  },
  {
   "cell_type": "code",
   "execution_count": 23,
   "metadata": {},
   "outputs": [
    {
     "data": {
      "text/plain": [
       "<pymongo.results.DeleteResult at 0x2aef4446b00>"
      ]
     },
     "execution_count": 23,
     "metadata": {},
     "output_type": "execute_result"
    }
   ],
   "source": [
    "db.emp.delete_one( \n",
    "    { \n",
    "        \"JOB\":\"PRESIDENT\"\n",
    "    }\n",
    ")"
   ]
  },
  {
   "cell_type": "code",
   "execution_count": 24,
   "metadata": {},
   "outputs": [
    {
     "data": {
      "text/html": [
       "<div>\n",
       "<style scoped>\n",
       "    .dataframe tbody tr th:only-of-type {\n",
       "        vertical-align: middle;\n",
       "    }\n",
       "\n",
       "    .dataframe tbody tr th {\n",
       "        vertical-align: top;\n",
       "    }\n",
       "\n",
       "    .dataframe thead th {\n",
       "        text-align: right;\n",
       "    }\n",
       "</style>\n",
       "<table border=\"1\" class=\"dataframe\">\n",
       "  <thead>\n",
       "    <tr style=\"text-align: right;\">\n",
       "      <th></th>\n",
       "      <th>_id</th>\n",
       "      <th></th>\n",
       "      <th>EMPNO</th>\n",
       "      <th>ENAME</th>\n",
       "      <th>JOB</th>\n",
       "      <th>HIREDATE</th>\n",
       "      <th>SAL</th>\n",
       "      <th>DEPTNO</th>\n",
       "    </tr>\n",
       "  </thead>\n",
       "  <tbody>\n",
       "    <tr>\n",
       "      <th>0</th>\n",
       "      <td>6232c6e989fd012ac7c4ce53</td>\n",
       "      <td>8</td>\n",
       "      <td>7839</td>\n",
       "      <td>KING</td>\n",
       "      <td>PRESIDENT</td>\n",
       "      <td>1981-11-17</td>\n",
       "      <td>5000.0</td>\n",
       "      <td>10</td>\n",
       "    </tr>\n",
       "  </tbody>\n",
       "</table>\n",
       "</div>"
      ],
      "text/plain": [
       "                        _id     EMPNO ENAME        JOB    HIREDATE     SAL  \\\n",
       "0  6232c6e989fd012ac7c4ce53  8   7839  KING  PRESIDENT  1981-11-17  5000.0   \n",
       "\n",
       "   DEPTNO  \n",
       "0      10  "
      ]
     },
     "execution_count": 24,
     "metadata": {},
     "output_type": "execute_result"
    }
   ],
   "source": [
    "result = db.emp.find( \n",
    "    {\"JOB\":\"PRESIDENT\"}\n",
    ")\n",
    "pd.DataFrame(result)"
   ]
  },
  {
   "cell_type": "code",
   "execution_count": 25,
   "metadata": {},
   "outputs": [
    {
     "data": {
      "text/plain": [
       "<pymongo.results.DeleteResult at 0x2aef4de0580>"
      ]
     },
     "execution_count": 25,
     "metadata": {},
     "output_type": "execute_result"
    }
   ],
   "source": [
    "db.emp.delete_many( \n",
    "    {\"ENAME\":\"MILLER\"}\n",
    ")"
   ]
  },
  {
   "cell_type": "code",
   "execution_count": 26,
   "metadata": {},
   "outputs": [
    {
     "data": {
      "text/html": [
       "<div>\n",
       "<style scoped>\n",
       "    .dataframe tbody tr th:only-of-type {\n",
       "        vertical-align: middle;\n",
       "    }\n",
       "\n",
       "    .dataframe tbody tr th {\n",
       "        vertical-align: top;\n",
       "    }\n",
       "\n",
       "    .dataframe thead th {\n",
       "        text-align: right;\n",
       "    }\n",
       "</style>\n",
       "<table border=\"1\" class=\"dataframe\">\n",
       "  <thead>\n",
       "    <tr style=\"text-align: right;\">\n",
       "      <th></th>\n",
       "    </tr>\n",
       "  </thead>\n",
       "  <tbody>\n",
       "  </tbody>\n",
       "</table>\n",
       "</div>"
      ],
      "text/plain": [
       "Empty DataFrame\n",
       "Columns: []\n",
       "Index: []"
      ]
     },
     "execution_count": 26,
     "metadata": {},
     "output_type": "execute_result"
    }
   ],
   "source": [
    "result = db.emp.find( \n",
    "    {\"ENAME\":\"MILLER\"}\n",
    ")\n",
    "pd.DataFrame(result)"
   ]
  },
  {
   "cell_type": "code",
   "execution_count": null,
   "metadata": {},
   "outputs": [],
   "source": []
  }
 ],
 "metadata": {
  "interpreter": {
   "hash": "498d421eec3175b73c3d76f7ffeb6f0f2092857e2c3a61852ad8a6444c50391e"
  },
  "kernelspec": {
   "display_name": "Python 3.10.2 64-bit (system)",
   "language": "python",
   "name": "python3"
  },
  "language_info": {
   "codemirror_mode": {
    "name": "ipython",
    "version": 3
   },
   "file_extension": ".py",
   "mimetype": "text/x-python",
   "name": "python",
   "nbconvert_exporter": "python",
   "pygments_lexer": "ipython3",
   "version": "3.10.2"
  },
  "orig_nbformat": 4
 },
 "nbformat": 4,
 "nbformat_minor": 2
}
