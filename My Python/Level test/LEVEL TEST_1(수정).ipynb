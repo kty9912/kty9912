{
 "cells": [
  {
   "cell_type": "markdown",
   "metadata": {},
   "source": [
    "### 1번 문제\n",
    "> For문을 이용하여 구구단을 출력하라\n",
    "    2단부터 9단까지 구구단을 print를 이용하여 출력하라."
   ]
  },
  {
   "cell_type": "code",
   "execution_count": 6,
   "metadata": {},
   "outputs": [
    {
     "name": "stdout",
     "output_type": "stream",
     "text": [
      "2  X  1  =  2\n",
      "2  X  2  =  4\n",
      "2  X  3  =  6\n",
      "2  X  4  =  8\n",
      "2  X  5  =  10\n",
      "2  X  6  =  12\n",
      "2  X  7  =  14\n",
      "2  X  8  =  16\n",
      "2  X  9  =  18\n",
      "----------\n",
      "3  X  1  =  3\n",
      "3  X  2  =  6\n",
      "3  X  3  =  9\n",
      "3  X  4  =  12\n",
      "3  X  5  =  15\n",
      "3  X  6  =  18\n",
      "3  X  7  =  21\n",
      "3  X  8  =  24\n",
      "3  X  9  =  27\n",
      "----------\n",
      "4  X  1  =  4\n",
      "4  X  2  =  8\n",
      "4  X  3  =  12\n",
      "4  X  4  =  16\n",
      "4  X  5  =  20\n",
      "4  X  6  =  24\n",
      "4  X  7  =  28\n",
      "4  X  8  =  32\n",
      "4  X  9  =  36\n",
      "----------\n",
      "5  X  1  =  5\n",
      "5  X  2  =  10\n",
      "5  X  3  =  15\n",
      "5  X  4  =  20\n",
      "5  X  5  =  25\n",
      "5  X  6  =  30\n",
      "5  X  7  =  35\n",
      "5  X  8  =  40\n",
      "5  X  9  =  45\n",
      "----------\n",
      "6  X  1  =  6\n",
      "6  X  2  =  12\n",
      "6  X  3  =  18\n",
      "6  X  4  =  24\n",
      "6  X  5  =  30\n",
      "6  X  6  =  36\n",
      "6  X  7  =  42\n",
      "6  X  8  =  48\n",
      "6  X  9  =  54\n",
      "----------\n",
      "7  X  1  =  7\n",
      "7  X  2  =  14\n",
      "7  X  3  =  21\n",
      "7  X  4  =  28\n",
      "7  X  5  =  35\n",
      "7  X  6  =  42\n",
      "7  X  7  =  49\n",
      "7  X  8  =  56\n",
      "7  X  9  =  63\n",
      "----------\n",
      "8  X  1  =  8\n",
      "8  X  2  =  16\n",
      "8  X  3  =  24\n",
      "8  X  4  =  32\n",
      "8  X  5  =  40\n",
      "8  X  6  =  48\n",
      "8  X  7  =  56\n",
      "8  X  8  =  64\n",
      "8  X  9  =  72\n",
      "----------\n",
      "9  X  1  =  9\n",
      "9  X  2  =  18\n",
      "9  X  3  =  27\n",
      "9  X  4  =  36\n",
      "9  X  5  =  45\n",
      "9  X  6  =  54\n",
      "9  X  7  =  63\n",
      "9  X  8  =  72\n",
      "9  X  9  =  81\n",
      "----------\n"
     ]
    }
   ],
   "source": [
    "for n in range(2,10):\n",
    "    for i in range(1, 10):\n",
    "        print(n, ' X ', i, ' = ', i*n)\n",
    "    print('-'*10)"
   ]
  },
  {
   "cell_type": "markdown",
   "metadata": {},
   "source": [
    "### 2번 문제\n",
    "> 2개의 주사위를 던져서 두 수의 합이 5의 배수인 경우를 출력하라.\n",
    "1. 2개의 for문을 이용할 것\n",
    "2. If문을 이용하여 5의 배수 조건을 줄 것"
   ]
  },
  {
   "cell_type": "code",
   "execution_count": 12,
   "metadata": {},
   "outputs": [
    {
     "name": "stdout",
     "output_type": "stream",
     "text": [
      "1  +  4  =  5\n",
      "2  +  3  =  5\n",
      "3  +  2  =  5\n",
      "4  +  1  =  5\n",
      "4  +  6  =  10\n",
      "5  +  5  =  10\n",
      "6  +  4  =  10\n"
     ]
    }
   ],
   "source": [
    "for n in range(1,7):\n",
    "    for i in range(1, 7):\n",
    "        sum = n + i\n",
    "        if sum % 5 == 0:\n",
    "            print(n,' + ',i,' = ',sum)\n"
   ]
  },
  {
   "cell_type": "markdown",
   "metadata": {},
   "source": [
    "### 3번 문제\n",
    "> 3개의 숫자를 입력하면 (input_a * input_b + input_c)와 (input_a + input_b * input_c)의 차이를 나타내는 함수를 만드시오.\n",
    "1. 함수명은 diff_sum()이라 지정\n",
    "2. 함수에 매개변수를 3개 지정(input_a, input_b, input_c)\n",
    "3. (input_a * input_b + input_c)와 (input_a + input_b * input_c) 두 식의 결과 값은 언제나 큰 수에서 작은 수를 빼는 if 조건문 생성\n",
    "4. 3개의 숫자는 input를 사용하여 입력 값을 받을 것"
   ]
  },
  {
   "cell_type": "code",
   "execution_count": 37,
   "metadata": {},
   "outputs": [
    {
     "name": "stdout",
     "output_type": "stream",
     "text": [
      "98\n"
     ]
    }
   ],
   "source": [
    "def diff_sum(input_a, input_b, input_c):\n",
    "    if (input_a * input_b + input_c) >= (input_a + input_b * input_c):\n",
    "        print((input_a * input_b + input_c)-(input_a + input_b * input_c))\n",
    "    else:\n",
    "        print((input_a + input_b * input_c)-(input_a * input_b + input_c))\n",
    "x = diff_sum(int(input('숫자 1 : ')),int(input('숫자 2 : ')),int(input('숫자 3 : ')))\n",
    "x"
   ]
  },
  {
   "cell_type": "markdown",
   "metadata": {},
   "source": [
    "### 4번 문제\n",
    "> Pandas를 이용하여 다음과 같은 데이터프레임을 만들고 데이터프레임을 수정하라.\n",
    "\n",
    "|   | 0 | 1 |  2 |\n",
    "|:-:|:-:|:-:|:--:|\n",
    "| 0 | 1 | 2 |  3 |\n",
    "| 1 | 7 | 8 |  9 |\n",
    "| 2 | 4 | 5 |  6 |\n",
    "| 3 | 3 | 5 | 10 |\n",
    "\n",
    "1. 컬럼의 이름을 A, B, C로 변경\n",
    "2. D라는 새로운 컬럼에 shift 함수를 이용하여 C 컬럼의 차를 D 컬럼에 생성(NaN값인 경우에는 0으로 대체)\n",
    "3. A 컬럼을 기준으로 오름차순 정렬\n",
    "4. 인덱스의 값을 새로 지정(기존의 인덱스는 삭제)\n",
    "5. 이 모든 과정은 원본의 데이터를 수정 "
   ]
  },
  {
   "cell_type": "code",
   "execution_count": 66,
   "metadata": {},
   "outputs": [
    {
     "data": {
      "text/html": [
       "<div>\n",
       "<style scoped>\n",
       "    .dataframe tbody tr th:only-of-type {\n",
       "        vertical-align: middle;\n",
       "    }\n",
       "\n",
       "    .dataframe tbody tr th {\n",
       "        vertical-align: top;\n",
       "    }\n",
       "\n",
       "    .dataframe thead th {\n",
       "        text-align: right;\n",
       "    }\n",
       "</style>\n",
       "<table border=\"1\" class=\"dataframe\">\n",
       "  <thead>\n",
       "    <tr style=\"text-align: right;\">\n",
       "      <th></th>\n",
       "      <th>A</th>\n",
       "      <th>B</th>\n",
       "      <th>C</th>\n",
       "      <th>D</th>\n",
       "    </tr>\n",
       "  </thead>\n",
       "  <tbody>\n",
       "    <tr>\n",
       "      <th>0</th>\n",
       "      <td>1</td>\n",
       "      <td>2</td>\n",
       "      <td>3</td>\n",
       "      <td>0</td>\n",
       "    </tr>\n",
       "    <tr>\n",
       "      <th>1</th>\n",
       "      <td>7</td>\n",
       "      <td>8</td>\n",
       "      <td>9</td>\n",
       "      <td>0</td>\n",
       "    </tr>\n",
       "    <tr>\n",
       "      <th>2</th>\n",
       "      <td>4</td>\n",
       "      <td>5</td>\n",
       "      <td>6</td>\n",
       "      <td>0</td>\n",
       "    </tr>\n",
       "    <tr>\n",
       "      <th>3</th>\n",
       "      <td>3</td>\n",
       "      <td>5</td>\n",
       "      <td>10</td>\n",
       "      <td>0</td>\n",
       "    </tr>\n",
       "  </tbody>\n",
       "</table>\n",
       "</div>"
      ],
      "text/plain": [
       "   A  B   C  D\n",
       "0  1  2   3  0\n",
       "1  7  8   9  0\n",
       "2  4  5   6  0\n",
       "3  3  5  10  0"
      ]
     },
     "execution_count": 66,
     "metadata": {},
     "output_type": "execute_result"
    }
   ],
   "source": [
    "import pandas as pd\n",
    "values = [[1,2,3],[7,8,9],[4,5,6],[3,5,10]]\n",
    "index = [0,1,2,3]\n",
    "columns = [0,1,2]\n",
    "pd_dataframe = pd.DataFrame(values, index=index, columns=columns)\n",
    "\n",
    "pd_dataframe.columns = [\"A\",\"B\",\"C\"]\n",
    "\n",
    "pd_dataframe[\"D\"] = (pd_dataframe[\"C\"].shift(0)-pd_dataframe[\"C\"]).fillna(0)\n",
    "\n",
    "pd_dataframe.sort_values(\"A\")\n",
    "\n",
    "pd_dataframe.reset_index(drop=True, inplace=True)\n",
    "pd_dataframe"
   ]
  },
  {
   "cell_type": "markdown",
   "metadata": {},
   "source": [
    "### 5번 문제\n",
    "> csv파일을 읽어온 뒤 데이터프레임을 수정하는 Class를 만들어보자.\n",
    "\n",
    "1. class를 생성할 때, 매개 변수를 이용하여 csv 파일 주소를 받아 온 후 csv파일 읽기(파일 주소는 상대경로로 지정)\n",
    "2. class 내의 함수 _sort()를 생성 후 컬럼의 이름이나 컬럼의 위치(예 : n번째 컬럼)를 받아오는 매개 변수를 생성. 그 값을 기준으로 sort를 하는 함수 생성(매개 변수가 위치(int)인지 이름(str)인지 체크하여 함수 구성, 오름차순 정렬)\n",
    "3. class 내의 함수 _drop()을 생성하여 매개 변수를 이용하여 컬럼의 이름을 받아온 후 해당 컬럼을 삭제하는 함수 생성\n",
    "4. class 내의 함수 _reset()을 생성하여 인덱스의 값을 초기화 하고 기존의 인덱스 값은 삭제하는 함수 생성\n",
    "5. 모든 과정에서 원본의 데이터를 수정"
   ]
  },
  {
   "cell_type": "code",
   "execution_count": null,
   "metadata": {},
   "outputs": [],
   "source": [
    "dt = pd.read_csv('./Sales Records.csv')\n",
    "class Class():\n",
    "    def _sort():\n"
   ]
  },
  {
   "cell_type": "markdown",
   "metadata": {},
   "source": []
  }
 ],
 "metadata": {
  "interpreter": {
   "hash": "4c18eaafcdecf4bd86273abe19a87690fc52b2a331ea498ee240a11474cedd09"
  },
  "kernelspec": {
   "display_name": "Python 3.9.7 64-bit",
   "language": "python",
   "name": "python3"
  },
  "language_info": {
   "name": "python",
   "version": "3.10.2"
  },
  "orig_nbformat": 4
 },
 "nbformat": 4,
 "nbformat_minor": 2
}
