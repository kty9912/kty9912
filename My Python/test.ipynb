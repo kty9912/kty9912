{
 "cells": [
  {
   "cell_type": "code",
   "execution_count": null,
   "metadata": {},
   "outputs": [],
   "source": [
    "def func_1(a,b)\n",
    "    c = a + b\n",
    "    return c\n",
    "\n",
    "d = func_1(3,6)\n",
    "\n",
    "print(d)\n"
   ]
  }
 ],
 "metadata": {
  "interpreter": {
   "hash": "1e699c2e6369742d430c981ed2fbb3ffc71c9ca768077dcdd431ecc22287375e"
  },
  "kernelspec": {
   "display_name": "Python 3.10.2 64-bit (system)",
   "language": "python",
   "name": "python3"
  },
  "language_info": {
   "name": "python",
   "version": "3.10.2"
  },
  "orig_nbformat": 4
 },
 "nbformat": 4,
 "nbformat_minor": 2
}
